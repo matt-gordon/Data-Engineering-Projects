{
 "cells": [
  {
   "cell_type": "markdown",
   "metadata": {},
   "source": [
    "# Spark Data Exploration\n",
    "Notebook to test data analysis and processes before transferring to \"production\" Python script"
   ]
  },
  {
   "cell_type": "code",
   "execution_count": 1,
   "metadata": {},
   "outputs": [],
   "source": [
    "import os\n",
    "import glob\n",
    "from datetime import datetime\n",
    "\n",
    "from pyspark import SparkConf\n",
    "from pyspark.sql import SparkSession\n",
    "from pyspark.sql.functions import udf, col, monotonically_increasing_id\n",
    "from pyspark.sql.functions import year, month, dayofmonth, hour, weekofyear, date_format, minute\n",
    "from pyspark.sql.types import *"
   ]
  },
  {
   "cell_type": "code",
   "execution_count": 2,
   "metadata": {},
   "outputs": [],
   "source": [
    "spark = SparkSession \\\n",
    "    .builder \\\n",
    "    .appName(\"Spark Local Analysis Development\") \\\n",
    "    .getOrCreate()"
   ]
  },
  {
   "cell_type": "code",
   "execution_count": 3,
   "metadata": {},
   "outputs": [
    {
     "data": {
      "text/plain": [
       "[('spark.rdd.compress', 'True'),\n",
       " ('spark.driver.host', '192.168.20.29'),\n",
       " ('spark.serializer.objectStreamReset', '100'),\n",
       " ('spark.app.name', 'Spark Local Analysis Development'),\n",
       " ('spark.app.id', 'local-1592142444521'),\n",
       " ('spark.master', 'local[*]'),\n",
       " ('spark.executor.id', 'driver'),\n",
       " ('spark.submit.deployMode', 'client'),\n",
       " ('spark.driver.port', '65001'),\n",
       " ('spark.ui.showConsoleProgress', 'true')]"
      ]
     },
     "execution_count": 3,
     "metadata": {},
     "output_type": "execute_result"
    }
   ],
   "source": [
    "spark.sparkContext.getConf().getAll()"
   ]
  },
  {
   "cell_type": "code",
   "execution_count": 4,
   "metadata": {},
   "outputs": [
    {
     "data": {
      "text/html": [
       "\n",
       "            <div>\n",
       "                <p><b>SparkSession - in-memory</b></p>\n",
       "                \n",
       "        <div>\n",
       "            <p><b>SparkContext</b></p>\n",
       "\n",
       "            <p><a href=\"http://192.168.20.29:4041\">Spark UI</a></p>\n",
       "\n",
       "            <dl>\n",
       "              <dt>Version</dt>\n",
       "                <dd><code>v2.4.5</code></dd>\n",
       "              <dt>Master</dt>\n",
       "                <dd><code>local[*]</code></dd>\n",
       "              <dt>AppName</dt>\n",
       "                <dd><code>Spark Local Analysis Development</code></dd>\n",
       "            </dl>\n",
       "        </div>\n",
       "        \n",
       "            </div>\n",
       "        "
      ],
      "text/plain": [
       "<pyspark.sql.session.SparkSession at 0x10dc53910>"
      ]
     },
     "execution_count": 4,
     "metadata": {},
     "output_type": "execute_result"
    }
   ],
   "source": [
    "spark"
   ]
  },
  {
   "cell_type": "markdown",
   "metadata": {},
   "source": [
    "For development of ETL process, use local data repository"
   ]
  },
  {
   "cell_type": "code",
   "execution_count": 5,
   "metadata": {},
   "outputs": [],
   "source": [
    "# Walkthrough the data directory to create a list of all files\n",
    "def get_files(filepath):\n",
    "    all_files = []\n",
    "    for root, dirs, files in os.walk(filepath):\n",
    "        files = glob.glob(os.path.join(root,'*.json'))\n",
    "        for f in files :\n",
    "            all_files.append(os.path.abspath(f))\n",
    "    \n",
    "    return all_files"
   ]
  },
  {
   "cell_type": "code",
   "execution_count": 6,
   "metadata": {},
   "outputs": [],
   "source": [
    "song_files = get_files('data/song_data')\n",
    "log_files = get_files('data/log-data')"
   ]
  },
  {
   "cell_type": "markdown",
   "metadata": {},
   "source": [
    "Define JSON import schemas"
   ]
  },
  {
   "cell_type": "code",
   "execution_count": 7,
   "metadata": {},
   "outputs": [],
   "source": [
    "song_schema = StructType([StructField('num_songs', IntegerType(), True),\n",
    "                     StructField('artist_id', StringType(), True),\n",
    "                     StructField('artist_latitude', DoubleType(), True),\n",
    "                     StructField('artist_longitude', DoubleType(), True),\n",
    "                     StructField('artist_location', StringType(), True),\n",
    "                     StructField('artist_name', StringType(),True),\n",
    "                     StructField('song_id', StringType(), True),\n",
    "                     StructField('title', StringType(), True),\n",
    "                     StructField('duration', DecimalType(18,0), True),\n",
    "                     StructField('year', IntegerType(), True)])\n",
    "\n",
    "log_schema = StructType([StructField('artist', StringType(), True),\n",
    "                     StructField('auth', StringType(), True),\n",
    "                     StructField('firstName', StringType(), True),\n",
    "                     StructField('gender', StringType(), True),\n",
    "                     StructField('itemInSession', LongType(), True),\n",
    "                     StructField('lastName', StringType(),True),\n",
    "                     StructField('length', DecimalType(18,0), True),\n",
    "                     StructField('level', StringType(), True),\n",
    "                     StructField('location', StringType(), True),\n",
    "                     StructField('method', StringType(), True),\n",
    "                     StructField('page', StringType(), True),\n",
    "                     StructField('registration', DoubleType(), True),\n",
    "                     StructField('sessionId', LongType(), True),\n",
    "                     StructField('song', StringType(), True),\n",
    "                     StructField('status', LongType(), True),\n",
    "                     StructField('ts', LongType(), True),\n",
    "                     StructField('userAgent', StringType(), True),\n",
    "                     StructField('userId', StringType(), True)])\n"
   ]
  },
  {
   "cell_type": "code",
   "execution_count": 8,
   "metadata": {},
   "outputs": [],
   "source": [
    "song_data = spark.read.option(\"multiline\",\"true\").json(song_files, song_schema)\n",
    "log_data = spark.read.option(\"multiline\",\"true\").json(log_files, log_schema)"
   ]
  },
  {
   "cell_type": "code",
   "execution_count": 9,
   "metadata": {
    "scrolled": false
   },
   "outputs": [],
   "source": [
    "song_data = song_data.dropna()"
   ]
  },
  {
   "cell_type": "code",
   "execution_count": 10,
   "metadata": {},
   "outputs": [
    {
     "name": "stdout",
     "output_type": "stream",
     "text": [
      "+---------+------------------+---------------+----------------+--------------------+--------------------+------------------+--------------------+--------+----+\n",
      "|num_songs|         artist_id|artist_latitude|artist_longitude|     artist_location|         artist_name|           song_id|               title|duration|year|\n",
      "+---------+------------------+---------------+----------------+--------------------+--------------------+------------------+--------------------+--------+----+\n",
      "|        1|ARMAC4T1187FB3FA4C|       40.82624|       -74.47995|   Morris Plains, NJ|The Dillinger Esc...|SOBBUGU12A8C13E95D|Setting Fire to S...|     208|2004|\n",
      "|        1|ARPBNLO1187FB3D52F|       40.71455|       -74.00712|        New York, NY|            Tiny Tim|SOAOIBZ12AB01815BE|I Hold Your Hand ...|      43|2000|\n",
      "|        1|ARDNS031187B9924F0|       32.67828|       -83.22295|             Georgia|          Tim Wilson|SONYPOM12A8C13B2D7|I Think My Wife I...|     186|2005|\n",
      "|        1|ARNF6401187FB57032|       40.79086|       -73.96644|New York, NY [Man...|   Sophie B. Hawkins|SONWXQJ12A8C134D94|The Ballad Of Sle...|     305|1994|\n",
      "|        1|ARLTWXK1187FB5A3F8|       32.74863|       -97.32925|      Fort Worth, TX|         King Curtis|SODREIN12A58A7F2E5|A Whiter Shade Of...|     326|   0|\n",
      "|        1|ARPFHN61187FB575F6|       41.88415|       -87.63241|         Chicago, IL|         Lupe Fiasco|SOWQTQZ12A58A7B63E|Streets On Fire (...|     280|   0|\n",
      "|        1|ARI2JSK1187FB496EF|       51.50632|        -0.12714|     London, England|Nick Ingman;Gavyn...|SODUJBS12A8C132150|Wessex Loses a Bride|     112|   0|\n",
      "|        1|AR0RCMP1187FB3F427|       30.08615|       -94.10158|        Beaumont, TX|    Billie Jo Spears|SOGXHEG12AB018653E|It Makes No Diffe...|     133|1992|\n",
      "|        1|AROUOZZ1187B9ABE51|       40.79195|       -73.94512|New York, NY [Spa...|         Willie Bobo|SOBZBAZ12A6D4F8742|      Spanish Grease|     168|1997|\n",
      "|        1|AR47JEX1187B995D81|       37.83721|       -94.35868|          Nevada, MO|        SUE THOMPSON|SOBLGCN12AB0183212|James (Hold The L...|     125|1985|\n",
      "|        1|ARB29H41187B98F0EF|       41.88415|       -87.63241|             Chicago|       Terry Callier|SOGNCJP12A58A80271|Do You Finally Ne...|     343|1972|\n",
      "|        1|ARQGYP71187FB44566|       34.31109|       -94.02978|         Mineola, AR|        Jimmy Wakely|SOWTBJW12AC468AC6E|Broken-Down Merry...|     152|   0|\n",
      "|        1|ARMBR4Y1187B9990EB|       37.77916|      -122.42005|     California - SF|        David Martin|SOTTDKS12AB018D69B|It Wont Be Christmas|     241|   0|\n",
      "|        1|AR36F9J1187FB406F1|       56.27609|         9.51695|             Denmark|      Bombay Rockers|SOBKWDJ12A8C13B2F3|Wild Rose (Back 2...|     231|   0|\n",
      "|        1|ARD842G1187B997376|       43.64856|       -79.38533|Toronto, Ontario,...|          Blue Rodeo|SOHUOAP12A8AE488E9|            Floating|     491|1987|\n",
      "|        1|ARQ9BO41187FB5CF1F|       40.99471|       -77.60454|        Pennsylvania|          John Davis|SOMVWWT12A58A7AE05|Knocked Out Of Th...|     183|   0|\n",
      "|        1|AR3JMC51187B9AE49D|       28.53823|       -81.37739|         Orlando, FL|     Backstreet Boys|SOPVXLX12A8C1402D5|    Larger Than Life|     236|1999|\n",
      "|        1|ARGCY1Y1187B9A4FA5|       36.16778|       -86.77836|      Nashville, TN.|            Gloriana|SOQOTLQ12AB01868D0|  Clementina Santafè|     153|   0|\n",
      "|        1|ARH4Z031187B9A71F2|       40.73197|       -74.17418|          Newark, NJ|          Faye Adams|SOVYKGO12AB0187199|Crazy Mixed Up World|     156|1961|\n",
      "|        1|ARBGXIG122988F409D|       37.77916|      -122.42005|     California - SF|          Steel Rain|SOOJPRH12A8C141995|   Loaded Like A Gun|     173|   0|\n",
      "+---------+------------------+---------------+----------------+--------------------+--------------------+------------------+--------------------+--------+----+\n",
      "only showing top 20 rows\n",
      "\n"
     ]
    }
   ],
   "source": [
    "song_data.show()"
   ]
  },
  {
   "cell_type": "code",
   "execution_count": 11,
   "metadata": {},
   "outputs": [
    {
     "name": "stdout",
     "output_type": "stream",
     "text": [
      "root\n",
      " |-- num_songs: integer (nullable = true)\n",
      " |-- artist_id: string (nullable = true)\n",
      " |-- artist_latitude: double (nullable = true)\n",
      " |-- artist_longitude: double (nullable = true)\n",
      " |-- artist_location: string (nullable = true)\n",
      " |-- artist_name: string (nullable = true)\n",
      " |-- song_id: string (nullable = true)\n",
      " |-- title: string (nullable = true)\n",
      " |-- duration: decimal(18,0) (nullable = true)\n",
      " |-- year: integer (nullable = true)\n",
      "\n"
     ]
    }
   ],
   "source": [
    "song_data.printSchema()"
   ]
  },
  {
   "cell_type": "code",
   "execution_count": 12,
   "metadata": {},
   "outputs": [
    {
     "data": {
      "text/plain": [
       "31"
      ]
     },
     "execution_count": 12,
     "metadata": {},
     "output_type": "execute_result"
    }
   ],
   "source": [
    "song_data.count()"
   ]
  },
  {
   "cell_type": "code",
   "execution_count": 13,
   "metadata": {},
   "outputs": [
    {
     "name": "stdout",
     "output_type": "stream",
     "text": [
      "root\n",
      " |-- artist: string (nullable = true)\n",
      " |-- auth: string (nullable = true)\n",
      " |-- firstName: string (nullable = true)\n",
      " |-- gender: string (nullable = true)\n",
      " |-- itemInSession: long (nullable = true)\n",
      " |-- lastName: string (nullable = true)\n",
      " |-- length: decimal(18,0) (nullable = true)\n",
      " |-- level: string (nullable = true)\n",
      " |-- location: string (nullable = true)\n",
      " |-- method: string (nullable = true)\n",
      " |-- page: string (nullable = true)\n",
      " |-- registration: double (nullable = true)\n",
      " |-- sessionId: long (nullable = true)\n",
      " |-- song: string (nullable = true)\n",
      " |-- status: long (nullable = true)\n",
      " |-- ts: long (nullable = true)\n",
      " |-- userAgent: string (nullable = true)\n",
      " |-- userId: string (nullable = true)\n",
      "\n"
     ]
    }
   ],
   "source": [
    "log_data.printSchema()"
   ]
  },
  {
   "cell_type": "code",
   "execution_count": 14,
   "metadata": {},
   "outputs": [
    {
     "data": {
      "text/plain": [
       "30"
      ]
     },
     "execution_count": 14,
     "metadata": {},
     "output_type": "execute_result"
    }
   ],
   "source": [
    "log_data.count()"
   ]
  },
  {
   "cell_type": "code",
   "execution_count": 15,
   "metadata": {},
   "outputs": [],
   "source": [
    "log_data = log_data.dropna()"
   ]
  },
  {
   "cell_type": "code",
   "execution_count": 16,
   "metadata": {},
   "outputs": [
    {
     "name": "stdout",
     "output_type": "stream",
     "text": [
      "+--------------------+---------+---------+------+-------------+---------+------+-----+--------------------+------+--------+-----------------+---------+--------------------+------+-------------+--------------------+------+\n",
      "|              artist|     auth|firstName|gender|itemInSession| lastName|length|level|            location|method|    page|     registration|sessionId|                song|status|           ts|           userAgent|userId|\n",
      "+--------------------+---------+---------+------+-------------+---------+------+-----+--------------------+------+--------+-----------------+---------+--------------------+------+-------------+--------------------+------+\n",
      "|            Harmonia|Logged In|     Ryan|     M|            0|    Smith|   656| free|San Jose-Sunnyval...|   PUT|NextSong|1.541016707796E12|      583|       Sehr kosmisch|   200|1542241826796|\"Mozilla/5.0 (X11...|    26|\n",
      "|     The Grass Roots|Logged In|     Sara|     F|           72|  Johnson|   167| paid|   Winston-Salem, NC|   PUT|NextSong|1.540809153796E12|      411|Let's Live For Today|   200|1542153802796|\"Mozilla/5.0 (iPh...|    95|\n",
      "|Mitch Ryder & The...|Logged In|    Tegan|     F|           65|   Levine|   205| paid|Portland-South Po...|   PUT|NextSong|1.540794356796E12|      992|Jenny Take A Ride...|   200|1543363215796|\"Mozilla/5.0 (Mac...|    80|\n",
      "|       A Fine Frenzy|Logged In| Anabelle|     F|            0|  Simpson|   268| free|Philadelphia-Camd...|   PUT|NextSong|1.541044398796E12|      256|Almost Lover (Alb...|   200|1541377992796|\"Mozilla/5.0 (Mac...|    69|\n",
      "|       Stephen Lynch|Logged In|   Jayden|     M|            0|     Bell|   183| free|Dallas-Fort Worth...|   PUT|NextSong|1.540991795796E12|      829|   Jim Henson's Dead|   200|1543537327796|Mozilla/5.0 (comp...|    91|\n",
      "|            Mudhoney|Logged In|   Aleena|     F|           10|    Kirby|   232| paid|Waterloo-Cedar Fa...|   PUT|NextSong|1.541022995796E12|      637|      Get Into Yours|   200|1542326457796|Mozilla/5.0 (Maci...|    44|\n",
      "|         The Killers|Logged In|   Jayden|     M|           32|   Graves|   247| paid|    Marinette, WI-MI|   PUT|NextSong|1.540664184796E12|      594|        Read My Mind|   200|1542672042796|\"Mozilla/5.0 (Win...|    25|\n",
      "|The Future Sound ...|Logged In|     Ryan|     M|            0|    Smith|   405| free|San Jose-Sunnyval...|   PUT|NextSong|1.541016707796E12|      873|    Papua New Guinea|   200|1543020300796|\"Mozilla/5.0 (X11...|    26|\n",
      "|   Sydney Youngblood|Logged In|    Jacob|     M|           53|    Klein|   238| paid|Tampa-St. Petersb...|   PUT|NextSong|1.540558108796E12|      954|   Ain't No Sunshine|   200|1543449657796|\"Mozilla/5.0 (Mac...|    73|\n",
      "|Barry Tuckwell/Ac...|Logged In| Mohammad|     M|            0|Rodriguez|   277| paid|Sacramento--Rosev...|   PUT|NextSong|1.540511766796E12|      961|Horn Concerto No....|   200|1543279932796|\"Mozilla/5.0 (Mac...|    88|\n",
      "| Great Lake Swimmers|Logged In|    Kevin|     M|            0| Arellano|   215| free|Harrisburg-Carlis...|   PUT|NextSong|1.540006905796E12|      815|    Your Rocky Spine|   200|1542931645796|\"Mozilla/5.0 (Mac...|    66|\n",
      "|                Muse|Logged In|   Harper|     M|            1|  Barrett|   210| paid|New York-Newark-J...|   PUT|NextSong|1.540685364796E12|      275|Supermassive Blac...|   200|1541721977796|\"Mozilla/5.0 (Win...|    42|\n",
      "|                Muse|Logged In|   Jordan|     F|            3|    Hicks|   259| free|         Salinas, CA|   PUT|NextSong|1.540008898796E12|      814|Supermassive Blac...|   200|1543190563796|\"Mozilla/5.0 (Mac...|    37|\n",
      "|        Miami Horror|Logged In|     Kate|     F|           88|  Harrell|   251| paid|Lansing-East Lans...|   PUT|NextSong|1.540472624796E12|      293|           Sometimes|   200|1541548876796|\"Mozilla/5.0 (X11...|    97|\n",
      "|N.E.R.D. FEATURIN...|Logged In|   Jayden|     M|            0|      Fox|   289| free|New Orleans-Metai...|   PUT|NextSong|1.541033612796E12|      184|Am I High (Feat. ...|   200|1541121934796|\"Mozilla/5.0 (Win...|   101|\n",
      "|     Rokia TraorÃÂ©|Logged In|  Stefany|     F|            0|    White|   275| free|         Lubbock, TX|   PUT|NextSong|1.540708070796E12|      693|                 Zen|   200|1542508401796|\"Mozilla/5.0 (Mac...|    83|\n",
      "|             Kenny G|Logged In|    Chloe|     F|           53|   Cuevas|   257| paid|San Francisco-Oak...|   PUT|NextSong|1.540940782796E12|      648|         Everlasting|   200|1542412944796|Mozilla/5.0 (Wind...|    49|\n",
      "| Dee Dee Bridgewater|Logged In|     Lily|     F|           38|     Koch|   319| paid|Chicago-Napervill...|   PUT|NextSong|1.541048010796E12|      818|      La Vie En Rose|   200|1542845032796|\"Mozilla/5.0 (X11...|    15|\n",
      "|          Hoobastank|Logged In|   Cierra|     F|            0|   Finley|   241| free|        Richmond, VA|   PUT|NextSong|1.541013292796E12|      132|        Say The Same|   200|1541808927796|\"Mozilla/5.0 (Mac...|    96|\n",
      "|            Frumpies|Logged In| Anabelle|     F|            0|  Simpson|   134| free|Philadelphia-Camd...|   PUT|NextSong|1.541044398796E12|      455|          Fuck Kitty|   200|1541903636796|\"Mozilla/5.0 (Mac...|    69|\n",
      "+--------------------+---------+---------+------+-------------+---------+------+-----+--------------------+------+--------+-----------------+---------+--------------------+------+-------------+--------------------+------+\n",
      "only showing top 20 rows\n",
      "\n"
     ]
    }
   ],
   "source": [
    "log_data.show()"
   ]
  },
  {
   "cell_type": "code",
   "execution_count": 17,
   "metadata": {},
   "outputs": [
    {
     "name": "stdout",
     "output_type": "stream",
     "text": [
      "+---------+------------------+---------------+----------------+--------------------+--------------------+------------------+--------------------+--------+----+\n",
      "|num_songs|         artist_id|artist_latitude|artist_longitude|     artist_location|         artist_name|           song_id|               title|duration|year|\n",
      "+---------+------------------+---------------+----------------+--------------------+--------------------+------------------+--------------------+--------+----+\n",
      "|        1|ARMAC4T1187FB3FA4C|       40.82624|       -74.47995|   Morris Plains, NJ|The Dillinger Esc...|SOBBUGU12A8C13E95D|Setting Fire to S...|     208|2004|\n",
      "|        1|ARPBNLO1187FB3D52F|       40.71455|       -74.00712|        New York, NY|            Tiny Tim|SOAOIBZ12AB01815BE|I Hold Your Hand ...|      43|2000|\n",
      "|        1|ARDNS031187B9924F0|       32.67828|       -83.22295|             Georgia|          Tim Wilson|SONYPOM12A8C13B2D7|I Think My Wife I...|     186|2005|\n",
      "|        1|ARNF6401187FB57032|       40.79086|       -73.96644|New York, NY [Man...|   Sophie B. Hawkins|SONWXQJ12A8C134D94|The Ballad Of Sle...|     305|1994|\n",
      "|        1|ARLTWXK1187FB5A3F8|       32.74863|       -97.32925|      Fort Worth, TX|         King Curtis|SODREIN12A58A7F2E5|A Whiter Shade Of...|     326|   0|\n",
      "|        1|ARPFHN61187FB575F6|       41.88415|       -87.63241|         Chicago, IL|         Lupe Fiasco|SOWQTQZ12A58A7B63E|Streets On Fire (...|     280|   0|\n",
      "|        1|ARI2JSK1187FB496EF|       51.50632|        -0.12714|     London, England|Nick Ingman;Gavyn...|SODUJBS12A8C132150|Wessex Loses a Bride|     112|   0|\n",
      "|        1|AR0RCMP1187FB3F427|       30.08615|       -94.10158|        Beaumont, TX|    Billie Jo Spears|SOGXHEG12AB018653E|It Makes No Diffe...|     133|1992|\n",
      "|        1|AROUOZZ1187B9ABE51|       40.79195|       -73.94512|New York, NY [Spa...|         Willie Bobo|SOBZBAZ12A6D4F8742|      Spanish Grease|     168|1997|\n",
      "|        1|AR47JEX1187B995D81|       37.83721|       -94.35868|          Nevada, MO|        SUE THOMPSON|SOBLGCN12AB0183212|James (Hold The L...|     125|1985|\n",
      "|        1|ARB29H41187B98F0EF|       41.88415|       -87.63241|             Chicago|       Terry Callier|SOGNCJP12A58A80271|Do You Finally Ne...|     343|1972|\n",
      "|        1|ARQGYP71187FB44566|       34.31109|       -94.02978|         Mineola, AR|        Jimmy Wakely|SOWTBJW12AC468AC6E|Broken-Down Merry...|     152|   0|\n",
      "|        1|ARMBR4Y1187B9990EB|       37.77916|      -122.42005|     California - SF|        David Martin|SOTTDKS12AB018D69B|It Wont Be Christmas|     241|   0|\n",
      "|        1|AR36F9J1187FB406F1|       56.27609|         9.51695|             Denmark|      Bombay Rockers|SOBKWDJ12A8C13B2F3|Wild Rose (Back 2...|     231|   0|\n",
      "|        1|ARD842G1187B997376|       43.64856|       -79.38533|Toronto, Ontario,...|          Blue Rodeo|SOHUOAP12A8AE488E9|            Floating|     491|1987|\n",
      "|        1|ARQ9BO41187FB5CF1F|       40.99471|       -77.60454|        Pennsylvania|          John Davis|SOMVWWT12A58A7AE05|Knocked Out Of Th...|     183|   0|\n",
      "|        1|AR3JMC51187B9AE49D|       28.53823|       -81.37739|         Orlando, FL|     Backstreet Boys|SOPVXLX12A8C1402D5|    Larger Than Life|     236|1999|\n",
      "|        1|ARGCY1Y1187B9A4FA5|       36.16778|       -86.77836|      Nashville, TN.|            Gloriana|SOQOTLQ12AB01868D0|  Clementina Santafè|     153|   0|\n",
      "|        1|ARH4Z031187B9A71F2|       40.73197|       -74.17418|          Newark, NJ|          Faye Adams|SOVYKGO12AB0187199|Crazy Mixed Up World|     156|1961|\n",
      "|        1|ARBGXIG122988F409D|       37.77916|      -122.42005|     California - SF|          Steel Rain|SOOJPRH12A8C141995|   Loaded Like A Gun|     173|   0|\n",
      "+---------+------------------+---------------+----------------+--------------------+--------------------+------------------+--------------------+--------+----+\n",
      "only showing top 20 rows\n",
      "\n"
     ]
    }
   ],
   "source": [
    "song_data.show()"
   ]
  },
  {
   "cell_type": "markdown",
   "metadata": {},
   "source": [
    "Augment the dataset by creating the a new log_data column \"timestamp\" by converting the \"ts\" column to a timestamp"
   ]
  },
  {
   "cell_type": "code",
   "execution_count": 18,
   "metadata": {},
   "outputs": [],
   "source": [
    "get_timestamp = udf(lambda x: datetime.fromtimestamp(x / 1000), TimestampType())\n",
    "log_data = log_data.withColumn(\"timestamp\", get_timestamp(log_data.ts))"
   ]
  },
  {
   "cell_type": "code",
   "execution_count": 19,
   "metadata": {},
   "outputs": [
    {
     "name": "stdout",
     "output_type": "stream",
     "text": [
      "+--------------------+---------+---------+------+-------------+---------+------+-----+--------------------+------+--------+-----------------+---------+--------------------+------+-------------+--------------------+------+--------------------+\n",
      "|              artist|     auth|firstName|gender|itemInSession| lastName|length|level|            location|method|    page|     registration|sessionId|                song|status|           ts|           userAgent|userId|           timestamp|\n",
      "+--------------------+---------+---------+------+-------------+---------+------+-----+--------------------+------+--------+-----------------+---------+--------------------+------+-------------+--------------------+------+--------------------+\n",
      "|            Harmonia|Logged In|     Ryan|     M|            0|    Smith|   656| free|San Jose-Sunnyval...|   PUT|NextSong|1.541016707796E12|      583|       Sehr kosmisch|   200|1542241826796|\"Mozilla/5.0 (X11...|    26|2018-11-15 11:30:...|\n",
      "|     The Grass Roots|Logged In|     Sara|     F|           72|  Johnson|   167| paid|   Winston-Salem, NC|   PUT|NextSong|1.540809153796E12|      411|Let's Live For Today|   200|1542153802796|\"Mozilla/5.0 (iPh...|    95|2018-11-14 11:03:...|\n",
      "|Mitch Ryder & The...|Logged In|    Tegan|     F|           65|   Levine|   205| paid|Portland-South Po...|   PUT|NextSong|1.540794356796E12|      992|Jenny Take A Ride...|   200|1543363215796|\"Mozilla/5.0 (Mac...|    80|2018-11-28 11:00:...|\n",
      "|       A Fine Frenzy|Logged In| Anabelle|     F|            0|  Simpson|   268| free|Philadelphia-Camd...|   PUT|NextSong|1.541044398796E12|      256|Almost Lover (Alb...|   200|1541377992796|\"Mozilla/5.0 (Mac...|    69|2018-11-05 11:33:...|\n",
      "|       Stephen Lynch|Logged In|   Jayden|     M|            0|     Bell|   183| free|Dallas-Fort Worth...|   PUT|NextSong|1.540991795796E12|      829|   Jim Henson's Dead|   200|1543537327796|Mozilla/5.0 (comp...|    91|2018-11-30 11:22:...|\n",
      "|            Mudhoney|Logged In|   Aleena|     F|           10|    Kirby|   232| paid|Waterloo-Cedar Fa...|   PUT|NextSong|1.541022995796E12|      637|      Get Into Yours|   200|1542326457796|Mozilla/5.0 (Maci...|    44|2018-11-16 11:00:...|\n",
      "|         The Killers|Logged In|   Jayden|     M|           32|   Graves|   247| paid|    Marinette, WI-MI|   PUT|NextSong|1.540664184796E12|      594|        Read My Mind|   200|1542672042796|\"Mozilla/5.0 (Win...|    25|2018-11-20 11:00:...|\n",
      "|The Future Sound ...|Logged In|     Ryan|     M|            0|    Smith|   405| free|San Jose-Sunnyval...|   PUT|NextSong|1.541016707796E12|      873|    Papua New Guinea|   200|1543020300796|\"Mozilla/5.0 (X11...|    26|2018-11-24 11:45:...|\n",
      "|   Sydney Youngblood|Logged In|    Jacob|     M|           53|    Klein|   238| paid|Tampa-St. Petersb...|   PUT|NextSong|1.540558108796E12|      954|   Ain't No Sunshine|   200|1543449657796|\"Mozilla/5.0 (Mac...|    73|2018-11-29 11:00:...|\n",
      "|Barry Tuckwell/Ac...|Logged In| Mohammad|     M|            0|Rodriguez|   277| paid|Sacramento--Rosev...|   PUT|NextSong|1.540511766796E12|      961|Horn Concerto No....|   200|1543279932796|\"Mozilla/5.0 (Mac...|    88|2018-11-27 11:52:...|\n",
      "| Great Lake Swimmers|Logged In|    Kevin|     M|            0| Arellano|   215| free|Harrisburg-Carlis...|   PUT|NextSong|1.540006905796E12|      815|    Your Rocky Spine|   200|1542931645796|\"Mozilla/5.0 (Mac...|    66|2018-11-23 11:07:...|\n",
      "|                Muse|Logged In|   Harper|     M|            1|  Barrett|   210| paid|New York-Newark-J...|   PUT|NextSong|1.540685364796E12|      275|Supermassive Blac...|   200|1541721977796|\"Mozilla/5.0 (Win...|    42|2018-11-09 11:06:...|\n",
      "|                Muse|Logged In|   Jordan|     F|            3|    Hicks|   259| free|         Salinas, CA|   PUT|NextSong|1.540008898796E12|      814|Supermassive Blac...|   200|1543190563796|\"Mozilla/5.0 (Mac...|    37|2018-11-26 11:02:...|\n",
      "|        Miami Horror|Logged In|     Kate|     F|           88|  Harrell|   251| paid|Lansing-East Lans...|   PUT|NextSong|1.540472624796E12|      293|           Sometimes|   200|1541548876796|\"Mozilla/5.0 (X11...|    97|2018-11-07 11:01:...|\n",
      "|N.E.R.D. FEATURIN...|Logged In|   Jayden|     M|            0|      Fox|   289| free|New Orleans-Metai...|   PUT|NextSong|1.541033612796E12|      184|Am I High (Feat. ...|   200|1541121934796|\"Mozilla/5.0 (Win...|   101|2018-11-02 12:25:...|\n",
      "|     Rokia TraorÃÂ©|Logged In|  Stefany|     F|            0|    White|   275| free|         Lubbock, TX|   PUT|NextSong|1.540708070796E12|      693|                 Zen|   200|1542508401796|\"Mozilla/5.0 (Mac...|    83|2018-11-18 13:33:...|\n",
      "|             Kenny G|Logged In|    Chloe|     F|           53|   Cuevas|   257| paid|San Francisco-Oak...|   PUT|NextSong|1.540940782796E12|      648|         Everlasting|   200|1542412944796|Mozilla/5.0 (Wind...|    49|2018-11-17 11:02:...|\n",
      "| Dee Dee Bridgewater|Logged In|     Lily|     F|           38|     Koch|   319| paid|Chicago-Napervill...|   PUT|NextSong|1.541048010796E12|      818|      La Vie En Rose|   200|1542845032796|\"Mozilla/5.0 (X11...|    15|2018-11-22 11:03:...|\n",
      "|          Hoobastank|Logged In|   Cierra|     F|            0|   Finley|   241| free|        Richmond, VA|   PUT|NextSong|1.541013292796E12|      132|        Say The Same|   200|1541808927796|\"Mozilla/5.0 (Mac...|    96|2018-11-10 11:15:...|\n",
      "|            Frumpies|Logged In| Anabelle|     F|            0|  Simpson|   134| free|Philadelphia-Camd...|   PUT|NextSong|1.541044398796E12|      455|          Fuck Kitty|   200|1541903636796|\"Mozilla/5.0 (Mac...|    69|2018-11-11 13:33:...|\n",
      "+--------------------+---------+---------+------+-------------+---------+------+-----+--------------------+------+--------+-----------------+---------+--------------------+------+-------------+--------------------+------+--------------------+\n",
      "only showing top 20 rows\n",
      "\n"
     ]
    }
   ],
   "source": [
    "log_data.show()"
   ]
  },
  {
   "cell_type": "markdown",
   "metadata": {},
   "source": [
    "#### SQL queries"
   ]
  },
  {
   "cell_type": "markdown",
   "metadata": {},
   "source": [
    "For this project we'll use spark.sql to create our tables for export to parquet files rather than creating new dataframes"
   ]
  },
  {
   "cell_type": "code",
   "execution_count": 20,
   "metadata": {},
   "outputs": [],
   "source": [
    "song_data.createOrReplaceTempView(\"song_table\")\n",
    "log_data.createOrReplaceTempView(\"log_table\")"
   ]
  },
  {
   "cell_type": "code",
   "execution_count": 21,
   "metadata": {},
   "outputs": [],
   "source": [
    "time = spark.sql('''\n",
    "SELECT DISTINCT timestamp as start_time, \n",
    "hour(timestamp) as hour, \n",
    "day(timestamp) as day, \n",
    "weekofyear(timestamp) as week, \n",
    "month(timestamp) as month, \n",
    "year(timestamp) as year, \n",
    "date_format(timestamp, 'EEEE') as weekday\n",
    "FROM log_table\n",
    "CLUSTER BY year, month\n",
    "''')"
   ]
  },
  {
   "cell_type": "code",
   "execution_count": 22,
   "metadata": {},
   "outputs": [
    {
     "name": "stdout",
     "output_type": "stream",
     "text": [
      "+--------------------+----+---+----+-----+----+---------+\n",
      "|          start_time|hour|day|week|month|year|  weekday|\n",
      "+--------------------+----+---+----+-----+----+---------+\n",
      "|2018-11-26 11:02:...|  11| 26|  48|   11|2018|   Monday|\n",
      "|2018-11-02 12:25:...|  12|  2|  44|   11|2018|   Friday|\n",
      "|2018-11-29 11:00:...|  11| 29|  48|   11|2018| Thursday|\n",
      "|2018-11-11 13:33:...|  13| 11|  45|   11|2018|   Sunday|\n",
      "|2018-11-07 11:01:...|  11|  7|  45|   11|2018|Wednesday|\n",
      "|2018-11-22 11:03:...|  11| 22|  47|   11|2018| Thursday|\n",
      "|2018-11-10 11:15:...|  11| 10|  45|   11|2018| Saturday|\n",
      "|2018-11-15 11:30:...|  11| 15|  46|   11|2018| Thursday|\n",
      "|2018-11-30 11:22:...|  11| 30|  48|   11|2018|   Friday|\n",
      "|2018-11-16 11:00:...|  11| 16|  46|   11|2018|   Friday|\n",
      "|2018-11-18 13:33:...|  13| 18|  46|   11|2018|   Sunday|\n",
      "|2018-11-14 11:03:...|  11| 14|  46|   11|2018|Wednesday|\n",
      "|2018-11-24 11:45:...|  11| 24|  47|   11|2018| Saturday|\n",
      "|2018-11-09 11:06:...|  11|  9|  45|   11|2018|   Friday|\n",
      "|2018-11-25 12:39:...|  12| 25|  47|   11|2018|   Sunday|\n",
      "|2018-11-20 11:00:...|  11| 20|  47|   11|2018|  Tuesday|\n",
      "|2018-11-27 11:52:...|  11| 27|  48|   11|2018|  Tuesday|\n",
      "|2018-11-28 11:00:...|  11| 28|  48|   11|2018|Wednesday|\n",
      "|2018-11-23 11:07:...|  11| 23|  47|   11|2018|   Friday|\n",
      "|2018-11-17 11:02:...|  11| 17|  46|   11|2018| Saturday|\n",
      "+--------------------+----+---+----+-----+----+---------+\n",
      "only showing top 20 rows\n",
      "\n"
     ]
    }
   ],
   "source": [
    "time.show()"
   ]
  },
  {
   "cell_type": "code",
   "execution_count": 23,
   "metadata": {},
   "outputs": [],
   "source": [
    "artist = spark.sql('''\n",
    "SELECT distinct artist_id, \n",
    "artist_name,\n",
    "artist_location,\n",
    "artist_latitude,\n",
    "artist_longitude\n",
    "FROM song_table\n",
    "''')"
   ]
  },
  {
   "cell_type": "code",
   "execution_count": 24,
   "metadata": {},
   "outputs": [
    {
     "name": "stdout",
     "output_type": "stream",
     "text": [
      "+------------------+--------------------+--------------------+---------------+----------------+\n",
      "|         artist_id|         artist_name|     artist_location|artist_latitude|artist_longitude|\n",
      "+------------------+--------------------+--------------------+---------------+----------------+\n",
      "|ARPBNLO1187FB3D52F|            Tiny Tim|        New York, NY|       40.71455|       -74.00712|\n",
      "|AR0IAWL1187B9A96D0|        Danilo Perez|              Panama|         8.4177|       -80.11278|\n",
      "|ARMBR4Y1187B9990EB|        David Martin|     California - SF|       37.77916|      -122.42005|\n",
      "|AR0RCMP1187FB3F427|    Billie Jo Spears|        Beaumont, TX|       30.08615|       -94.10158|\n",
      "|AROUOZZ1187B9ABE51|         Willie Bobo|New York, NY [Spa...|       40.79195|       -73.94512|\n",
      "|AR47JEX1187B995D81|        SUE THOMPSON|          Nevada, MO|       37.83721|       -94.35868|\n",
      "|ARQ9BO41187FB5CF1F|          John Davis|        Pennsylvania|       40.99471|       -77.60454|\n",
      "|ARMAC4T1187FB3FA4C|The Dillinger Esc...|   Morris Plains, NJ|       40.82624|       -74.47995|\n",
      "|ARBGXIG122988F409D|          Steel Rain|     California - SF|       37.77916|      -122.42005|\n",
      "|ARGSJW91187B9B1D6B|        JennyAnyKind|      North Carolina|       35.21962|       -80.01955|\n",
      "|ARGCY1Y1187B9A4FA5|            Gloriana|      Nashville, TN.|       36.16778|       -86.77836|\n",
      "|ARNF6401187FB57032|   Sophie B. Hawkins|New York, NY [Man...|       40.79086|       -73.96644|\n",
      "|ARI2JSK1187FB496EF|Nick Ingman;Gavyn...|     London, England|       51.50632|        -0.12714|\n",
      "|ARIG6O41187B988BDD|     Richard Souther|       United States|       37.16793|       -95.84502|\n",
      "|ARMJAGH1187FB546F3|        The Box Tops|         Memphis, TN|       35.14968|       -90.04892|\n",
      "|ARPFHN61187FB575F6|         Lupe Fiasco|         Chicago, IL|       41.88415|       -87.63241|\n",
      "|AR5KOSW1187FB35FF4|               Elena|           Dubai UAE|       49.80388|        15.47491|\n",
      "|AREVWGE1187B9B890A|          Bitter End|           Noci (BA)|        -13.442|        -41.9952|\n",
      "|ARDNS031187B9924F0|          Tim Wilson|             Georgia|       32.67828|       -83.22295|\n",
      "|AR3JMC51187B9AE49D|     Backstreet Boys|         Orlando, FL|       28.53823|       -81.37739|\n",
      "+------------------+--------------------+--------------------+---------------+----------------+\n",
      "only showing top 20 rows\n",
      "\n"
     ]
    }
   ],
   "source": [
    "artist.show()"
   ]
  },
  {
   "cell_type": "code",
   "execution_count": 25,
   "metadata": {},
   "outputs": [],
   "source": [
    "songs = spark.sql('''\n",
    "SELECT distinct song_id, \n",
    "artist_id, \n",
    "title, \n",
    "year, \n",
    "duration\n",
    "FROM song_table\n",
    "CLUSTER BY year, artist_id\n",
    "''')"
   ]
  },
  {
   "cell_type": "code",
   "execution_count": 26,
   "metadata": {},
   "outputs": [
    {
     "name": "stdout",
     "output_type": "stream",
     "text": [
      "+------------------+------------------+--------------------+----+--------+\n",
      "|           song_id|         artist_id|               title|year|duration|\n",
      "+------------------+------------------+--------------------+----+--------+\n",
      "|SOWTBJW12AC468AC6E|ARQGYP71187FB44566|Broken-Down Merry...|   0|     152|\n",
      "|SOQHXMF12AB0182363|ARGSJW91187B9B1D6B|     Young Boy Blues|   0|     219|\n",
      "|SOWQTQZ12A58A7B63E|ARPFHN61187FB575F6|Streets On Fire (...|   0|     280|\n",
      "|SONYPOM12A8C13B2D7|ARDNS031187B9924F0|I Think My Wife I...|2005|     186|\n",
      "|SOVYKGO12AB0187199|ARH4Z031187B9A71F2|Crazy Mixed Up World|1961|     156|\n",
      "|SOPVXLX12A8C1402D5|AR3JMC51187B9AE49D|    Larger Than Life|1999|     236|\n",
      "|SOHUOAP12A8AE488E9|ARD842G1187B997376|            Floating|1987|     491|\n",
      "|SODUJBS12A8C132150|ARI2JSK1187FB496EF|Wessex Loses a Bride|   0|     112|\n",
      "|SOQVMXR12A81C21483|ARKULSX1187FB45F84|         Salt In NYC|   0|     424|\n",
      "|SOFCHDR12AB01866EF|AREVWGE1187B9B890A|         Living Hell|   0|     282|\n",
      "|SOGXHEG12AB018653E|AR0RCMP1187FB3F427|It Makes No Diffe...|1992|     133|\n",
      "|SOZCTXZ12AB0182364|AR5KOSW1187FB35FF4|      Setanta matins|   0|     270|\n",
      "|SOMVWWT12A58A7AE05|ARQ9BO41187FB5CF1F|Knocked Out Of Th...|   0|     183|\n",
      "|SOTTDKS12AB018D69B|ARMBR4Y1187B9990EB|It Wont Be Christmas|   0|     241|\n",
      "|SODREIN12A58A7F2E5|ARLTWXK1187FB5A3F8|A Whiter Shade Of...|   0|     326|\n",
      "|SOAOIBZ12AB01815BE|ARPBNLO1187FB3D52F|I Hold Your Hand ...|2000|      43|\n",
      "|SOQOTLQ12AB01868D0|ARGCY1Y1187B9A4FA5|  Clementina Santafè|   0|     153|\n",
      "|SOCIWDW12A8C13D406|ARMJAGH1187FB546F3|           Soul Deep|1969|     148|\n",
      "|SOYTPEP12AB0180E7B|ARAJPHH1187FB5566A|     Twist and Shout|1964|     165|\n",
      "|SOUQQEA12A8C134B1B|ARIG6O41187B988BDD|           High Tide|   0|     229|\n",
      "+------------------+------------------+--------------------+----+--------+\n",
      "only showing top 20 rows\n",
      "\n"
     ]
    }
   ],
   "source": [
    "songs.show()"
   ]
  },
  {
   "cell_type": "code",
   "execution_count": 27,
   "metadata": {},
   "outputs": [],
   "source": [
    "users = spark.sql('''\n",
    "SELECT log_table.userId as user_id, log_table.firstname as first_name, log_table.lastname as last_name, log_table.gender, log_table.level\n",
    "FROM (\n",
    "    SELECT userId, max(ts) as ts\n",
    "    FROM log_table\n",
    "    GROUP BY userId) AS unique_users\n",
    "INNER JOIN log_table\n",
    "ON log_table.userId = unique_users.userId AND log_table.ts = unique_users.ts\n",
    "''')"
   ]
  },
  {
   "cell_type": "code",
   "execution_count": 28,
   "metadata": {},
   "outputs": [
    {
     "name": "stdout",
     "output_type": "stream",
     "text": [
      "+-------+----------+---------+------+-----+\n",
      "|user_id|first_name|last_name|gender|level|\n",
      "+-------+----------+---------+------+-----+\n",
      "|     95|      Sara|  Johnson|     F| paid|\n",
      "|     80|     Tegan|   Levine|     F| paid|\n",
      "|     91|    Jayden|     Bell|     M| free|\n",
      "|     44|    Aleena|    Kirby|     F| paid|\n",
      "|     25|    Jayden|   Graves|     M| paid|\n",
      "|     26|      Ryan|    Smith|     M| free|\n",
      "|     73|     Jacob|    Klein|     M| paid|\n",
      "|     88|  Mohammad|Rodriguez|     M| paid|\n",
      "|     66|     Kevin| Arellano|     M| free|\n",
      "|     42|    Harper|  Barrett|     M| paid|\n",
      "|     37|    Jordan|    Hicks|     F| free|\n",
      "|     97|      Kate|  Harrell|     F| paid|\n",
      "|    101|    Jayden|      Fox|     M| free|\n",
      "|     83|   Stefany|    White|     F| free|\n",
      "|     49|     Chloe|   Cuevas|     F| paid|\n",
      "|     15|      Lily|     Koch|     F| paid|\n",
      "|     96|    Cierra|   Finley|     F| free|\n",
      "|     69|  Anabelle|  Simpson|     F| free|\n",
      "|     76|    Jayden|    Duffy|     F| free|\n",
      "+-------+----------+---------+------+-----+\n",
      "\n"
     ]
    }
   ],
   "source": [
    "users.show()"
   ]
  },
  {
   "cell_type": "code",
   "execution_count": 29,
   "metadata": {},
   "outputs": [],
   "source": [
    "songplays_table = spark.sql('''\n",
    "                        SELECT log.timestamp as start_time, log.userId, log.level, song.song_id, song.artist_id, log.sessionId, log.location, log.userAgent\n",
    "                        FROM log_table as log\n",
    "                        LEFT JOIN song_table as song \n",
    "                        ON log.song = song.title\n",
    "                        AND log.artist = song.artist_name\n",
    "                        AND log.length = song.duration\n",
    "                        WHERE log.page = 'NextSong'\n",
    "                        CLUSTER BY year(start_time), month(start_time)\n",
    "                        ''')\n",
    "songplays_table = songplays_table.withColumn(\"songplay_id\", monotonically_increasing_id()) # add unique songplay_id"
   ]
  },
  {
   "cell_type": "code",
   "execution_count": 30,
   "metadata": {
    "scrolled": false
   },
   "outputs": [
    {
     "name": "stdout",
     "output_type": "stream",
     "text": [
      "+--------------------+------+-----+-------+---------+---------+--------------------+--------------------+-------------+\n",
      "|          start_time|userId|level|song_id|artist_id|sessionId|            location|           userAgent|  songplay_id|\n",
      "+--------------------+------+-----+-------+---------+---------+--------------------+--------------------+-------------+\n",
      "|2018-11-15 11:30:...|    26| free|   null|     null|      583|San Jose-Sunnyval...|\"Mozilla/5.0 (X11...|1382979469312|\n",
      "|2018-11-14 11:03:...|    95| paid|   null|     null|      411|   Winston-Salem, NC|\"Mozilla/5.0 (iPh...|1382979469313|\n",
      "|2018-11-28 11:00:...|    80| paid|   null|     null|      992|Portland-South Po...|\"Mozilla/5.0 (Mac...|1382979469314|\n",
      "|2018-11-05 11:33:...|    69| free|   null|     null|      256|Philadelphia-Camd...|\"Mozilla/5.0 (Mac...|1382979469315|\n",
      "|2018-11-30 11:22:...|    91| free|   null|     null|      829|Dallas-Fort Worth...|Mozilla/5.0 (comp...|1382979469316|\n",
      "|2018-11-16 11:00:...|    44| paid|   null|     null|      637|Waterloo-Cedar Fa...|Mozilla/5.0 (Maci...|1382979469317|\n",
      "|2018-11-20 11:00:...|    25| paid|   null|     null|      594|    Marinette, WI-MI|\"Mozilla/5.0 (Win...|1382979469318|\n",
      "|2018-11-24 11:45:...|    26| free|   null|     null|      873|San Jose-Sunnyval...|\"Mozilla/5.0 (X11...|1382979469319|\n",
      "|2018-11-29 11:00:...|    73| paid|   null|     null|      954|Tampa-St. Petersb...|\"Mozilla/5.0 (Mac...|1382979469320|\n",
      "|2018-11-27 11:52:...|    88| paid|   null|     null|      961|Sacramento--Rosev...|\"Mozilla/5.0 (Mac...|1382979469321|\n",
      "|2018-11-23 11:07:...|    66| free|   null|     null|      815|Harrisburg-Carlis...|\"Mozilla/5.0 (Mac...|1382979469322|\n",
      "|2018-11-09 11:06:...|    42| paid|   null|     null|      275|New York-Newark-J...|\"Mozilla/5.0 (Win...|1382979469323|\n",
      "|2018-11-26 11:02:...|    37| free|   null|     null|      814|         Salinas, CA|\"Mozilla/5.0 (Mac...|1382979469324|\n",
      "|2018-11-07 11:01:...|    97| paid|   null|     null|      293|Lansing-East Lans...|\"Mozilla/5.0 (X11...|1382979469325|\n",
      "|2018-11-02 12:25:...|   101| free|   null|     null|      184|New Orleans-Metai...|\"Mozilla/5.0 (Win...|1382979469326|\n",
      "|2018-11-18 13:33:...|    83| free|   null|     null|      693|         Lubbock, TX|\"Mozilla/5.0 (Mac...|1382979469327|\n",
      "|2018-11-17 11:02:...|    49| paid|   null|     null|      648|San Francisco-Oak...|Mozilla/5.0 (Wind...|1382979469328|\n",
      "|2018-11-22 11:03:...|    15| paid|   null|     null|      818|Chicago-Napervill...|\"Mozilla/5.0 (X11...|1382979469329|\n",
      "|2018-11-10 11:15:...|    96| free|   null|     null|      132|        Richmond, VA|\"Mozilla/5.0 (Mac...|1382979469330|\n",
      "|2018-11-11 13:33:...|    69| free|   null|     null|      455|Philadelphia-Camd...|\"Mozilla/5.0 (Mac...|1382979469331|\n",
      "+--------------------+------+-----+-------+---------+---------+--------------------+--------------------+-------------+\n",
      "only showing top 20 rows\n",
      "\n"
     ]
    }
   ],
   "source": [
    "songplays_table.show()"
   ]
  },
  {
   "cell_type": "markdown",
   "metadata": {},
   "source": [
    "### Output to Parquet Files"
   ]
  },
  {
   "cell_type": "markdown",
   "metadata": {},
   "source": [
    "To test the process for partitioning and outputting parquet files, use the local directory.  In production this will be replaced by S3."
   ]
  },
  {
   "cell_type": "code",
   "execution_count": 31,
   "metadata": {},
   "outputs": [],
   "source": [
    "songs.write.partitionBy(\"year\",\"artist_id\").mode(\"overwrite\").parquet(\"songs\")"
   ]
  },
  {
   "cell_type": "code",
   "execution_count": 32,
   "metadata": {},
   "outputs": [],
   "source": [
    "time.write.partitionBy(\"year\",\"month\").mode(\"overwrite\").parquet(\"time\")"
   ]
  },
  {
   "cell_type": "code",
   "execution_count": 33,
   "metadata": {},
   "outputs": [],
   "source": [
    "artist.write.mode(\"overwrite\").parquet(\"artist\")"
   ]
  },
  {
   "cell_type": "code",
   "execution_count": 34,
   "metadata": {},
   "outputs": [],
   "source": [
    "users.write.mode(\"overwrite\").parquet(\"users\")"
   ]
  },
  {
   "cell_type": "markdown",
   "metadata": {},
   "source": [
    "Demonstrate being able to partition by columns that aren't part of the table schema.  Here we'll partition by minute as a ridiculous partition that isn't part of the schema but can be extracted from the timestamp"
   ]
  },
  {
   "cell_type": "code",
   "execution_count": 35,
   "metadata": {},
   "outputs": [],
   "source": [
    "time.withColumn(\"minute\",minute('start_time')).write.mode(\"overwrite\").partitionBy(\"minute\").parquet(\"time_minute\")"
   ]
  },
  {
   "cell_type": "markdown",
   "metadata": {},
   "source": [
    "Read in the partitioned time parquet file using defaul read.parquet"
   ]
  },
  {
   "cell_type": "code",
   "execution_count": 36,
   "metadata": {},
   "outputs": [],
   "source": [
    "test = spark.read.parquet('time_minute')"
   ]
  },
  {
   "cell_type": "code",
   "execution_count": 37,
   "metadata": {
    "scrolled": false
   },
   "outputs": [
    {
     "name": "stdout",
     "output_type": "stream",
     "text": [
      "+--------------------+----+---+----+-----+----+---------+------+\n",
      "|          start_time|hour|day|week|month|year|  weekday|minute|\n",
      "+--------------------+----+---+----+-----+----+---------+------+\n",
      "|2018-11-11 13:33:...|  13| 11|  45|   11|2018|   Sunday|    33|\n",
      "|2018-11-18 13:33:...|  13| 18|  46|   11|2018|   Sunday|    33|\n",
      "|2018-11-05 11:33:...|  11|  5|  45|   11|2018|   Monday|    33|\n",
      "|2018-11-29 11:00:...|  11| 29|  48|   11|2018| Thursday|     0|\n",
      "|2018-11-16 11:00:...|  11| 16|  46|   11|2018|   Friday|     0|\n",
      "|2018-11-20 11:00:...|  11| 20|  47|   11|2018|  Tuesday|     0|\n",
      "|2018-11-28 11:00:...|  11| 28|  48|   11|2018|Wednesday|     0|\n",
      "|2018-11-07 11:01:...|  11|  7|  45|   11|2018|Wednesday|     1|\n",
      "|2018-11-15 11:30:...|  11| 15|  46|   11|2018| Thursday|    30|\n",
      "|2018-11-10 11:15:...|  11| 10|  45|   11|2018| Saturday|    15|\n",
      "|2018-11-24 11:45:...|  11| 24|  47|   11|2018| Saturday|    45|\n",
      "|2018-11-27 11:52:...|  11| 27|  48|   11|2018|  Tuesday|    52|\n",
      "|2018-11-02 12:25:...|  12|  2|  44|   11|2018|   Friday|    25|\n",
      "|2018-11-25 12:39:...|  12| 25|  47|   11|2018|   Sunday|    39|\n",
      "|2018-11-30 11:22:...|  11| 30|  48|   11|2018|   Friday|    22|\n",
      "|2018-11-09 11:06:...|  11|  9|  45|   11|2018|   Friday|     6|\n",
      "|2018-11-23 11:07:...|  11| 23|  47|   11|2018|   Friday|     7|\n",
      "|2018-11-22 11:03:...|  11| 22|  47|   11|2018| Thursday|     3|\n",
      "|2018-11-14 11:03:...|  11| 14|  46|   11|2018|Wednesday|     3|\n",
      "|2018-11-26 11:02:...|  11| 26|  48|   11|2018|   Monday|     2|\n",
      "+--------------------+----+---+----+-----+----+---------+------+\n",
      "only showing top 20 rows\n",
      "\n"
     ]
    }
   ],
   "source": [
    "test.show()"
   ]
  },
  {
   "cell_type": "markdown",
   "metadata": {},
   "source": [
    "Use the wildcard symbol for the partition folder, in this instance we only have 1 partition, so to skip having minute added as a column to our schema use ' time_minute / * '"
   ]
  },
  {
   "cell_type": "code",
   "execution_count": 38,
   "metadata": {},
   "outputs": [],
   "source": [
    "test2 = spark.read.parquet('time_minute/*')"
   ]
  },
  {
   "cell_type": "code",
   "execution_count": 39,
   "metadata": {},
   "outputs": [
    {
     "name": "stdout",
     "output_type": "stream",
     "text": [
      "+--------------------+----+---+----+-----+----+---------+\n",
      "|          start_time|hour|day|week|month|year|  weekday|\n",
      "+--------------------+----+---+----+-----+----+---------+\n",
      "|2018-11-11 13:33:...|  13| 11|  45|   11|2018|   Sunday|\n",
      "|2018-11-18 13:33:...|  13| 18|  46|   11|2018|   Sunday|\n",
      "|2018-11-05 11:33:...|  11|  5|  45|   11|2018|   Monday|\n",
      "|2018-11-29 11:00:...|  11| 29|  48|   11|2018| Thursday|\n",
      "|2018-11-16 11:00:...|  11| 16|  46|   11|2018|   Friday|\n",
      "|2018-11-20 11:00:...|  11| 20|  47|   11|2018|  Tuesday|\n",
      "|2018-11-28 11:00:...|  11| 28|  48|   11|2018|Wednesday|\n",
      "|2018-11-07 11:01:...|  11|  7|  45|   11|2018|Wednesday|\n",
      "|2018-11-24 11:45:...|  11| 24|  47|   11|2018| Saturday|\n",
      "|2018-11-10 11:15:...|  11| 10|  45|   11|2018| Saturday|\n",
      "|2018-11-15 11:30:...|  11| 15|  46|   11|2018| Thursday|\n",
      "|2018-11-27 11:52:...|  11| 27|  48|   11|2018|  Tuesday|\n",
      "|2018-11-23 11:07:...|  11| 23|  47|   11|2018|   Friday|\n",
      "|2018-11-09 11:06:...|  11|  9|  45|   11|2018|   Friday|\n",
      "|2018-11-02 12:25:...|  12|  2|  44|   11|2018|   Friday|\n",
      "|2018-11-30 11:22:...|  11| 30|  48|   11|2018|   Friday|\n",
      "|2018-11-25 12:39:...|  12| 25|  47|   11|2018|   Sunday|\n",
      "|2018-11-22 11:03:...|  11| 22|  47|   11|2018| Thursday|\n",
      "|2018-11-14 11:03:...|  11| 14|  46|   11|2018|Wednesday|\n",
      "|2018-11-26 11:02:...|  11| 26|  48|   11|2018|   Monday|\n",
      "+--------------------+----+---+----+-----+----+---------+\n",
      "only showing top 20 rows\n",
      "\n"
     ]
    }
   ],
   "source": [
    "test2.show()"
   ]
  },
  {
   "cell_type": "markdown",
   "metadata": {},
   "source": [
    "Back to the correct table schema on import"
   ]
  },
  {
   "cell_type": "code",
   "execution_count": null,
   "metadata": {},
   "outputs": [],
   "source": []
  }
 ],
 "metadata": {
  "kernelspec": {
   "display_name": "Python 3",
   "language": "python",
   "name": "python3"
  },
  "language_info": {
   "codemirror_mode": {
    "name": "ipython",
    "version": 3
   },
   "file_extension": ".py",
   "mimetype": "text/x-python",
   "name": "python",
   "nbconvert_exporter": "python",
   "pygments_lexer": "ipython3",
   "version": "3.7.4"
  }
 },
 "nbformat": 4,
 "nbformat_minor": 2
}
