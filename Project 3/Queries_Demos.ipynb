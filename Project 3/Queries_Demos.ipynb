{
 "cells": [
  {
   "cell_type": "markdown",
   "metadata": {},
   "source": [
    "# Project 3 - Data Warehouse Demo Queries\n",
    "Example database queries to demonstrate that Sparkify analytics tables loaded on Sparkify Redshift cluster can be queried by the analytics team to generate insight."
   ]
  },
  {
   "cell_type": "code",
   "execution_count": 1,
   "metadata": {},
   "outputs": [],
   "source": [
    "import pandas as pd\n",
    "import configparser\n",
    "import psycopg2"
   ]
  },
  {
   "cell_type": "code",
   "execution_count": 2,
   "metadata": {},
   "outputs": [
    {
     "data": {
      "text/plain": [
       "['dwh.cfg']"
      ]
     },
     "execution_count": 2,
     "metadata": {},
     "output_type": "execute_result"
    }
   ],
   "source": [
    "# Load configuration data to connect to Redshift cluster\n",
    "config = configparser.ConfigParser()\n",
    "config.read('dwh.cfg')"
   ]
  },
  {
   "cell_type": "code",
   "execution_count": 3,
   "metadata": {},
   "outputs": [],
   "source": [
    "## Establish connection to Redshift cluster\n",
    "try:\n",
    "    conn = psycopg2.connect(\"host={} dbname={} user={} password={} port={}\".format(*config['CLUSTER'].values()))\n",
    "    cur = conn.cursor()\n",
    "except Exception as e:\n",
    "    print(e)"
   ]
  },
  {
   "cell_type": "markdown",
   "metadata": {},
   "source": [
    "Count the number of songplays in the database from paid users"
   ]
  },
  {
   "cell_type": "code",
   "execution_count": 4,
   "metadata": {},
   "outputs": [
    {
     "name": "stdout",
     "output_type": "stream",
     "text": [
      "246\n"
     ]
    }
   ],
   "source": [
    "try:  \n",
    "    cur.execute(\"SELECT COUNT (*) FROM fact_songplays WHERE fact_songplays.level = 'paid';\")\n",
    "    print(cur.fetchone()[0])\n",
    "except Exception as e:\n",
    "    print(e)"
   ]
  },
  {
   "cell_type": "markdown",
   "metadata": {},
   "source": [
    "Count the total number of songplays in the database"
   ]
  },
  {
   "cell_type": "code",
   "execution_count": 5,
   "metadata": {},
   "outputs": [
    {
     "name": "stdout",
     "output_type": "stream",
     "text": [
      "315\n"
     ]
    }
   ],
   "source": [
    "try:  \n",
    "    cur.execute(\"SELECT COUNT(*) FROM fact_songplays;\")\n",
    "    print(cur.fetchone()[0])\n",
    "except Exception as e:\n",
    "    print(e)"
   ]
  },
  {
   "cell_type": "markdown",
   "metadata": {},
   "source": [
    "Count the number of songplays that occur on a Monday"
   ]
  },
  {
   "cell_type": "code",
   "execution_count": 6,
   "metadata": {},
   "outputs": [
    {
     "name": "stdout",
     "output_type": "stream",
     "text": [
      "102\n"
     ]
    }
   ],
   "source": [
    "try:    \n",
    "    cur.execute(\"SELECT COUNT(*) FROM fact_songplays JOIN dim_time ON fact_songplays.start_time = dim_time.start_time WHERE dim_time.weekday = 'Monday';\")\n",
    "    results = cur.fetchall()[0][0]\n",
    "    print(results)\n",
    "except Exception as e:\n",
    "    print(e)"
   ]
  },
  {
   "cell_type": "markdown",
   "metadata": {},
   "source": [
    "Find the total number of songplays in the database by day of week"
   ]
  },
  {
   "cell_type": "code",
   "execution_count": 7,
   "metadata": {},
   "outputs": [
    {
     "name": "stdout",
     "output_type": "stream",
     "text": [
      "{'Monday': 102, 'Tuesday': 96, 'Wednesday': 120, 'Thursday': 138, 'Friday': 90, 'Saturday': 48, 'Sunday': 36}\n"
     ]
    }
   ],
   "source": [
    "try:   \n",
    "    days = ['Monday','Tuesday','Wednesday','Thursday','Friday','Saturday','Sunday']\n",
    "    count = []\n",
    "\n",
    "    for i, day in enumerate(days):\n",
    "        cur.execute(\"SELECT COUNT(*) FROM fact_songplays JOIN dim_time ON fact_songplays.start_time = dim_time.start_time WHERE dim_time.weekday = %s;\",(day,))\n",
    "        count.append(cur.fetchall()[0][0]) \n",
    "\n",
    "    count_by_day = dict(zip(days,count))\n",
    "    print(count_by_day)\n",
    "except Exception as e:\n",
    "    print(e)"
   ]
  },
  {
   "cell_type": "markdown",
   "metadata": {},
   "source": [
    "Number of songplays by day of week for 'free' level users"
   ]
  },
  {
   "cell_type": "code",
   "execution_count": 8,
   "metadata": {},
   "outputs": [
    {
     "name": "stdout",
     "output_type": "stream",
     "text": [
      "{'Monday': 24, 'Tuesday': 24, 'Wednesday': 18, 'Thursday': 12, 'Friday': 42, 'Saturday': 6, 'Sunday': 12}\n"
     ]
    }
   ],
   "source": [
    "try:    \n",
    "    days = ['Monday','Tuesday','Wednesday','Thursday','Friday','Saturday','Sunday']\n",
    "    count = []\n",
    "\n",
    "    for i, day in enumerate(days):\n",
    "        cur.execute(\"SELECT COUNT(*) FROM fact_songplays JOIN dim_time ON fact_songplays.start_time = dim_time.start_time WHERE dim_time.weekday = %s AND fact_songplays.level = 'free';\",(day,))\n",
    "        count.append(cur.fetchall()[0][0]) \n",
    "\n",
    "    count_by_day_free = dict(zip(days,count))\n",
    "    print(count_by_day_free)\n",
    "except Exception as e:\n",
    "    print(e)"
   ]
  },
  {
   "cell_type": "markdown",
   "metadata": {},
   "source": [
    "Number of songplays by day of week for 'paid' level users"
   ]
  },
  {
   "cell_type": "code",
   "execution_count": 9,
   "metadata": {},
   "outputs": [
    {
     "name": "stdout",
     "output_type": "stream",
     "text": [
      "{'Monday': 78, 'Tuesday': 72, 'Wednesday': 102, 'Thursday': 126, 'Friday': 48, 'Saturday': 42, 'Sunday': 24}\n"
     ]
    }
   ],
   "source": [
    "try:    \n",
    "    days = ['Monday','Tuesday','Wednesday','Thursday','Friday','Saturday','Sunday']\n",
    "    count = []\n",
    "\n",
    "    for i, day in enumerate(days):\n",
    "        cur.execute(\"SELECT COUNT(*) FROM fact_songplays JOIN dim_time ON fact_songplays.start_time = dim_time.start_time WHERE dim_time.weekday = %s AND fact_songplays.level = 'paid';\",(day,))\n",
    "        count.append(cur.fetchall()[0][0]) \n",
    "\n",
    "    count_by_day_paid = dict(zip(days,count))\n",
    "    print(count_by_day_paid)\n",
    "except Exception as e:\n",
    "    print(e)"
   ]
  },
  {
   "cell_type": "markdown",
   "metadata": {},
   "source": [
    "Number of songs in songs table by year"
   ]
  },
  {
   "cell_type": "code",
   "execution_count": 10,
   "metadata": {},
   "outputs": [
    {
     "name": "stdout",
     "output_type": "stream",
     "text": [
      "{1927: 3, 1944: 3, 1954: 9, 1956: 6, 1957: 9, 1958: 6, 1959: 12, 1960: 6, 1961: 12, 1962: 12, 1963: 21, 1964: 21, 1965: 6, 1966: 30, 1967: 27, 1968: 48, 1969: 39, 1970: 69, 1971: 36, 1972: 45, 1973: 48, 1974: 45, 1975: 54, 1976: 39, 1977: 63, 1978: 60, 1979: 51, 1980: 69, 1981: 75, 1982: 102, 1983: 63, 1984: 69, 1985: 72, 1986: 123, 1987: 105, 1988: 126, 1989: 150, 1990: 168, 1991: 165, 1992: 282, 1993: 192, 1994: 285, 1995: 309, 1996: 294, 1997: 315, 1998: 246, 1999: 387, 2000: 411, 2001: 393, 2002: 441, 2003: 555, 2004: 636, 2005: 723, 2006: 816, 2007: 858, 2008: 792, 2009: 612, 2010: 216}\n"
     ]
    }
   ],
   "source": [
    "try:\n",
    "    cur.execute(\"SELECT dim_songs.year as year, COUNT(*) as count_all FROM dim_songs GROUP BY dim_songs.year ORDER BY dim_songs.year ASC;\")\n",
    "    results = cur.fetchall()\n",
    "    count_songs_by_year = dict(results)\n",
    "    print(count_songs_by_year)\n",
    "except Exception as e:\n",
    "    print(e)"
   ]
  },
  {
   "cell_type": "markdown",
   "metadata": {},
   "source": [
    "Find the top 3 locations by total songplays, return total songplays and location for each"
   ]
  },
  {
   "cell_type": "code",
   "execution_count": 11,
   "metadata": {},
   "outputs": [
    {
     "name": "stdout",
     "output_type": "stream",
     "text": [
      "[(33, 'Lansing-East Lansing, MI'), (33, 'San Francisco-Oakland-Hayward, CA'), (21, 'Chicago-Naperville-Elgin, IL-IN-WI')]\n"
     ]
    }
   ],
   "source": [
    "try:    \n",
    "    cur.execute(\"\"\"SELECT COUNT(*) as count_all, fact_songplays.location as location FROM fact_songplays \n",
    "                GROUP BY fact_songplays.location ORDER BY count_all DESC LIMIT 3;\"\"\")\n",
    "    top3_locations_by_songplays = cur.fetchall()\n",
    "    print(top3_locations_by_songplays)\n",
    "except Exception as e:\n",
    "    print(e)"
   ]
  },
  {
   "cell_type": "markdown",
   "metadata": {},
   "source": [
    "Find the top 3 locations by total songplays for each day of week"
   ]
  },
  {
   "cell_type": "code",
   "execution_count": 12,
   "metadata": {},
   "outputs": [
    {
     "name": "stdout",
     "output_type": "stream",
     "text": [
      "{'Monday': [(18, 'Lansing-East Lansing, MI'), (18, 'Lake Havasu City-Kingman, AZ'), (12, 'Waterloo-Cedar Falls, IA')], 'Tuesday': [(24, 'Marinette, WI-MI'), (12, 'Atlanta-Sandy Springs-Roswell, GA'), (12, 'Lansing-East Lansing, MI')], 'Wednesday': [(24, 'Chicago-Naperville-Elgin, IL-IN-WI'), (18, 'Tampa-St. Petersburg-Clearwater, FL'), (18, 'Portland-South Portland, ME')], 'Thursday': [(24, 'Lansing-East Lansing, MI'), (24, 'San Francisco-Oakland-Hayward, CA'), (18, 'Portland-South Portland, ME')], 'Friday': [(18, 'San Francisco-Oakland-Hayward, CA'), (12, 'New Haven-Milford, CT'), (6, 'Eugene, OR')], 'Saturday': [(12, 'Winston-Salem, NC'), (12, 'Waterloo-Cedar Falls, IA'), (12, 'Tampa-St. Petersburg-Clearwater, FL')], 'Sunday': [(6, 'Marinette, WI-MI'), (6, 'Indianapolis-Carmel-Anderson, IN'), (6, 'Waterloo-Cedar Falls, IA')]}\n"
     ]
    }
   ],
   "source": [
    "try:\n",
    "    days = ['Monday','Tuesday','Wednesday','Thursday','Friday','Saturday','Sunday']\n",
    "    top3 = []\n",
    "\n",
    "    for i, day in enumerate(days):\n",
    "        cur.execute(\"SELECT COUNT(*) as count_all, fact_songplays.location as location FROM fact_songplays JOIN dim_time ON fact_songplays.start_time = dim_time.start_time WHERE dim_time.weekday = %s GROUP BY fact_songplays.location ORDER BY count_all DESC;\",(day,))\n",
    "        top3.append(cur.fetchall()[0:3]) \n",
    "\n",
    "    top3_locations_by_day = dict(zip(days,top3))\n",
    "    print(top3_locations_by_day)\n",
    "except Exception as e:\n",
    "    print(e)"
   ]
  },
  {
   "cell_type": "markdown",
   "metadata": {},
   "source": [
    "Top 3 paid users by total number of songs played"
   ]
  },
  {
   "cell_type": "code",
   "execution_count": 13,
   "metadata": {},
   "outputs": [
    {
     "name": "stdout",
     "output_type": "stream",
     "text": [
      "[(99, 'Kate', 'Harrell', 'F'), (90, 'Chloe', 'Cuevas', 'F'), (63, 'Jacob', 'Klein', 'M')]\n"
     ]
    }
   ],
   "source": [
    "try:\n",
    "    cur.execute(\"\"\"SELECT COUNT (*) as count_all,  dim_users.first_name, dim_users.last_name, dim_users.gender FROM fact_songplays JOIN dim_users\n",
    "                ON fact_songplays.user_id = dim_users.user_id WHERE fact_songplays.level = 'paid' GROUP BY first_name, last_name, gender\n",
    "                ORDER BY count_all DESC LIMIT 3;\"\"\")\n",
    "    top3_paid_users_by_songplays = cur.fetchall()\n",
    "    print(top3_paid_users_by_songplays)\n",
    "except Exception as e:\n",
    "    print(e)"
   ]
  },
  {
   "cell_type": "markdown",
   "metadata": {},
   "source": [
    "### Demonstrate use of Pandas read_sql to ingest data into DataFrames"
   ]
  },
  {
   "cell_type": "code",
   "execution_count": 14,
   "metadata": {},
   "outputs": [
    {
     "data": {
      "text/html": [
       "<div>\n",
       "<style scoped>\n",
       "    .dataframe tbody tr th:only-of-type {\n",
       "        vertical-align: middle;\n",
       "    }\n",
       "\n",
       "    .dataframe tbody tr th {\n",
       "        vertical-align: top;\n",
       "    }\n",
       "\n",
       "    .dataframe thead th {\n",
       "        text-align: right;\n",
       "    }\n",
       "</style>\n",
       "<table border=\"1\" class=\"dataframe\">\n",
       "  <thead>\n",
       "    <tr style=\"text-align: right;\">\n",
       "      <th></th>\n",
       "      <th>count_all</th>\n",
       "      <th>location</th>\n",
       "    </tr>\n",
       "  </thead>\n",
       "  <tbody>\n",
       "    <tr>\n",
       "      <th>0</th>\n",
       "      <td>33</td>\n",
       "      <td>Lansing-East Lansing, MI</td>\n",
       "    </tr>\n",
       "    <tr>\n",
       "      <th>1</th>\n",
       "      <td>33</td>\n",
       "      <td>San Francisco-Oakland-Hayward, CA</td>\n",
       "    </tr>\n",
       "    <tr>\n",
       "      <th>2</th>\n",
       "      <td>21</td>\n",
       "      <td>Chicago-Naperville-Elgin, IL-IN-WI</td>\n",
       "    </tr>\n",
       "  </tbody>\n",
       "</table>\n",
       "</div>"
      ],
      "text/plain": [
       "   count_all                            location\n",
       "0         33            Lansing-East Lansing, MI\n",
       "1         33   San Francisco-Oakland-Hayward, CA\n",
       "2         21  Chicago-Naperville-Elgin, IL-IN-WI"
      ]
     },
     "execution_count": 14,
     "metadata": {},
     "output_type": "execute_result"
    }
   ],
   "source": [
    "pd.read_sql(\"SELECT COUNT(*) as count_all, fact_songplays.location as location FROM fact_songplays GROUP BY fact_songplays.location ORDER BY count_all DESC LIMIT 3;\",conn)"
   ]
  },
  {
   "cell_type": "code",
   "execution_count": 15,
   "metadata": {
    "scrolled": true
   },
   "outputs": [
    {
     "data": {
      "text/html": [
       "<div>\n",
       "<style scoped>\n",
       "    .dataframe tbody tr th:only-of-type {\n",
       "        vertical-align: middle;\n",
       "    }\n",
       "\n",
       "    .dataframe tbody tr th {\n",
       "        vertical-align: top;\n",
       "    }\n",
       "\n",
       "    .dataframe thead th {\n",
       "        text-align: right;\n",
       "    }\n",
       "</style>\n",
       "<table border=\"1\" class=\"dataframe\">\n",
       "  <thead>\n",
       "    <tr style=\"text-align: right;\">\n",
       "      <th></th>\n",
       "      <th>year</th>\n",
       "      <th>count_all</th>\n",
       "    </tr>\n",
       "  </thead>\n",
       "  <tbody>\n",
       "    <tr>\n",
       "      <th>0</th>\n",
       "      <td>1927</td>\n",
       "      <td>3</td>\n",
       "    </tr>\n",
       "    <tr>\n",
       "      <th>1</th>\n",
       "      <td>1944</td>\n",
       "      <td>3</td>\n",
       "    </tr>\n",
       "    <tr>\n",
       "      <th>2</th>\n",
       "      <td>1954</td>\n",
       "      <td>9</td>\n",
       "    </tr>\n",
       "    <tr>\n",
       "      <th>3</th>\n",
       "      <td>1956</td>\n",
       "      <td>6</td>\n",
       "    </tr>\n",
       "    <tr>\n",
       "      <th>4</th>\n",
       "      <td>1957</td>\n",
       "      <td>9</td>\n",
       "    </tr>\n",
       "    <tr>\n",
       "      <th>5</th>\n",
       "      <td>1958</td>\n",
       "      <td>6</td>\n",
       "    </tr>\n",
       "    <tr>\n",
       "      <th>6</th>\n",
       "      <td>1959</td>\n",
       "      <td>12</td>\n",
       "    </tr>\n",
       "    <tr>\n",
       "      <th>7</th>\n",
       "      <td>1960</td>\n",
       "      <td>6</td>\n",
       "    </tr>\n",
       "    <tr>\n",
       "      <th>8</th>\n",
       "      <td>1961</td>\n",
       "      <td>12</td>\n",
       "    </tr>\n",
       "    <tr>\n",
       "      <th>9</th>\n",
       "      <td>1962</td>\n",
       "      <td>12</td>\n",
       "    </tr>\n",
       "    <tr>\n",
       "      <th>10</th>\n",
       "      <td>1963</td>\n",
       "      <td>21</td>\n",
       "    </tr>\n",
       "    <tr>\n",
       "      <th>11</th>\n",
       "      <td>1964</td>\n",
       "      <td>21</td>\n",
       "    </tr>\n",
       "    <tr>\n",
       "      <th>12</th>\n",
       "      <td>1965</td>\n",
       "      <td>6</td>\n",
       "    </tr>\n",
       "    <tr>\n",
       "      <th>13</th>\n",
       "      <td>1966</td>\n",
       "      <td>30</td>\n",
       "    </tr>\n",
       "    <tr>\n",
       "      <th>14</th>\n",
       "      <td>1967</td>\n",
       "      <td>27</td>\n",
       "    </tr>\n",
       "    <tr>\n",
       "      <th>15</th>\n",
       "      <td>1968</td>\n",
       "      <td>48</td>\n",
       "    </tr>\n",
       "    <tr>\n",
       "      <th>16</th>\n",
       "      <td>1969</td>\n",
       "      <td>39</td>\n",
       "    </tr>\n",
       "    <tr>\n",
       "      <th>17</th>\n",
       "      <td>1970</td>\n",
       "      <td>69</td>\n",
       "    </tr>\n",
       "    <tr>\n",
       "      <th>18</th>\n",
       "      <td>1971</td>\n",
       "      <td>36</td>\n",
       "    </tr>\n",
       "    <tr>\n",
       "      <th>19</th>\n",
       "      <td>1972</td>\n",
       "      <td>45</td>\n",
       "    </tr>\n",
       "    <tr>\n",
       "      <th>20</th>\n",
       "      <td>1973</td>\n",
       "      <td>48</td>\n",
       "    </tr>\n",
       "    <tr>\n",
       "      <th>21</th>\n",
       "      <td>1974</td>\n",
       "      <td>45</td>\n",
       "    </tr>\n",
       "    <tr>\n",
       "      <th>22</th>\n",
       "      <td>1975</td>\n",
       "      <td>54</td>\n",
       "    </tr>\n",
       "    <tr>\n",
       "      <th>23</th>\n",
       "      <td>1976</td>\n",
       "      <td>39</td>\n",
       "    </tr>\n",
       "    <tr>\n",
       "      <th>24</th>\n",
       "      <td>1977</td>\n",
       "      <td>63</td>\n",
       "    </tr>\n",
       "    <tr>\n",
       "      <th>25</th>\n",
       "      <td>1978</td>\n",
       "      <td>60</td>\n",
       "    </tr>\n",
       "    <tr>\n",
       "      <th>26</th>\n",
       "      <td>1979</td>\n",
       "      <td>51</td>\n",
       "    </tr>\n",
       "    <tr>\n",
       "      <th>27</th>\n",
       "      <td>1980</td>\n",
       "      <td>69</td>\n",
       "    </tr>\n",
       "    <tr>\n",
       "      <th>28</th>\n",
       "      <td>1981</td>\n",
       "      <td>75</td>\n",
       "    </tr>\n",
       "    <tr>\n",
       "      <th>29</th>\n",
       "      <td>1982</td>\n",
       "      <td>102</td>\n",
       "    </tr>\n",
       "    <tr>\n",
       "      <th>30</th>\n",
       "      <td>1983</td>\n",
       "      <td>63</td>\n",
       "    </tr>\n",
       "    <tr>\n",
       "      <th>31</th>\n",
       "      <td>1984</td>\n",
       "      <td>69</td>\n",
       "    </tr>\n",
       "    <tr>\n",
       "      <th>32</th>\n",
       "      <td>1985</td>\n",
       "      <td>72</td>\n",
       "    </tr>\n",
       "    <tr>\n",
       "      <th>33</th>\n",
       "      <td>1986</td>\n",
       "      <td>123</td>\n",
       "    </tr>\n",
       "    <tr>\n",
       "      <th>34</th>\n",
       "      <td>1987</td>\n",
       "      <td>105</td>\n",
       "    </tr>\n",
       "    <tr>\n",
       "      <th>35</th>\n",
       "      <td>1988</td>\n",
       "      <td>126</td>\n",
       "    </tr>\n",
       "    <tr>\n",
       "      <th>36</th>\n",
       "      <td>1989</td>\n",
       "      <td>150</td>\n",
       "    </tr>\n",
       "    <tr>\n",
       "      <th>37</th>\n",
       "      <td>1990</td>\n",
       "      <td>168</td>\n",
       "    </tr>\n",
       "    <tr>\n",
       "      <th>38</th>\n",
       "      <td>1991</td>\n",
       "      <td>165</td>\n",
       "    </tr>\n",
       "    <tr>\n",
       "      <th>39</th>\n",
       "      <td>1992</td>\n",
       "      <td>282</td>\n",
       "    </tr>\n",
       "    <tr>\n",
       "      <th>40</th>\n",
       "      <td>1993</td>\n",
       "      <td>192</td>\n",
       "    </tr>\n",
       "    <tr>\n",
       "      <th>41</th>\n",
       "      <td>1994</td>\n",
       "      <td>285</td>\n",
       "    </tr>\n",
       "    <tr>\n",
       "      <th>42</th>\n",
       "      <td>1995</td>\n",
       "      <td>309</td>\n",
       "    </tr>\n",
       "    <tr>\n",
       "      <th>43</th>\n",
       "      <td>1996</td>\n",
       "      <td>294</td>\n",
       "    </tr>\n",
       "    <tr>\n",
       "      <th>44</th>\n",
       "      <td>1997</td>\n",
       "      <td>315</td>\n",
       "    </tr>\n",
       "    <tr>\n",
       "      <th>45</th>\n",
       "      <td>1998</td>\n",
       "      <td>246</td>\n",
       "    </tr>\n",
       "    <tr>\n",
       "      <th>46</th>\n",
       "      <td>1999</td>\n",
       "      <td>387</td>\n",
       "    </tr>\n",
       "    <tr>\n",
       "      <th>47</th>\n",
       "      <td>2000</td>\n",
       "      <td>411</td>\n",
       "    </tr>\n",
       "    <tr>\n",
       "      <th>48</th>\n",
       "      <td>2001</td>\n",
       "      <td>393</td>\n",
       "    </tr>\n",
       "    <tr>\n",
       "      <th>49</th>\n",
       "      <td>2002</td>\n",
       "      <td>441</td>\n",
       "    </tr>\n",
       "    <tr>\n",
       "      <th>50</th>\n",
       "      <td>2003</td>\n",
       "      <td>555</td>\n",
       "    </tr>\n",
       "    <tr>\n",
       "      <th>51</th>\n",
       "      <td>2004</td>\n",
       "      <td>636</td>\n",
       "    </tr>\n",
       "    <tr>\n",
       "      <th>52</th>\n",
       "      <td>2005</td>\n",
       "      <td>723</td>\n",
       "    </tr>\n",
       "    <tr>\n",
       "      <th>53</th>\n",
       "      <td>2006</td>\n",
       "      <td>816</td>\n",
       "    </tr>\n",
       "    <tr>\n",
       "      <th>54</th>\n",
       "      <td>2007</td>\n",
       "      <td>858</td>\n",
       "    </tr>\n",
       "    <tr>\n",
       "      <th>55</th>\n",
       "      <td>2008</td>\n",
       "      <td>792</td>\n",
       "    </tr>\n",
       "    <tr>\n",
       "      <th>56</th>\n",
       "      <td>2009</td>\n",
       "      <td>612</td>\n",
       "    </tr>\n",
       "    <tr>\n",
       "      <th>57</th>\n",
       "      <td>2010</td>\n",
       "      <td>216</td>\n",
       "    </tr>\n",
       "  </tbody>\n",
       "</table>\n",
       "</div>"
      ],
      "text/plain": [
       "    year  count_all\n",
       "0   1927          3\n",
       "1   1944          3\n",
       "2   1954          9\n",
       "3   1956          6\n",
       "4   1957          9\n",
       "5   1958          6\n",
       "6   1959         12\n",
       "7   1960          6\n",
       "8   1961         12\n",
       "9   1962         12\n",
       "10  1963         21\n",
       "11  1964         21\n",
       "12  1965          6\n",
       "13  1966         30\n",
       "14  1967         27\n",
       "15  1968         48\n",
       "16  1969         39\n",
       "17  1970         69\n",
       "18  1971         36\n",
       "19  1972         45\n",
       "20  1973         48\n",
       "21  1974         45\n",
       "22  1975         54\n",
       "23  1976         39\n",
       "24  1977         63\n",
       "25  1978         60\n",
       "26  1979         51\n",
       "27  1980         69\n",
       "28  1981         75\n",
       "29  1982        102\n",
       "30  1983         63\n",
       "31  1984         69\n",
       "32  1985         72\n",
       "33  1986        123\n",
       "34  1987        105\n",
       "35  1988        126\n",
       "36  1989        150\n",
       "37  1990        168\n",
       "38  1991        165\n",
       "39  1992        282\n",
       "40  1993        192\n",
       "41  1994        285\n",
       "42  1995        309\n",
       "43  1996        294\n",
       "44  1997        315\n",
       "45  1998        246\n",
       "46  1999        387\n",
       "47  2000        411\n",
       "48  2001        393\n",
       "49  2002        441\n",
       "50  2003        555\n",
       "51  2004        636\n",
       "52  2005        723\n",
       "53  2006        816\n",
       "54  2007        858\n",
       "55  2008        792\n",
       "56  2009        612\n",
       "57  2010        216"
      ]
     },
     "execution_count": 15,
     "metadata": {},
     "output_type": "execute_result"
    }
   ],
   "source": [
    "pd.read_sql(\"SELECT dim_songs.year as year, COUNT(*) as count_all FROM dim_songs GROUP BY dim_songs.year ORDER BY dim_songs.year ASC;\",conn)"
   ]
  },
  {
   "cell_type": "markdown",
   "metadata": {},
   "source": [
    "## REMEMBER: Close connection when finished"
   ]
  },
  {
   "cell_type": "code",
   "execution_count": 16,
   "metadata": {},
   "outputs": [],
   "source": [
    "conn.close()"
   ]
  },
  {
   "cell_type": "code",
   "execution_count": null,
   "metadata": {},
   "outputs": [],
   "source": []
  }
 ],
 "metadata": {
  "kernelspec": {
   "display_name": "Python 3",
   "language": "python",
   "name": "python3"
  },
  "language_info": {
   "codemirror_mode": {
    "name": "ipython",
    "version": 3
   },
   "file_extension": ".py",
   "mimetype": "text/x-python",
   "name": "python",
   "nbconvert_exporter": "python",
   "pygments_lexer": "ipython3",
   "version": "3.7.4"
  }
 },
 "nbformat": 4,
 "nbformat_minor": 2
}
