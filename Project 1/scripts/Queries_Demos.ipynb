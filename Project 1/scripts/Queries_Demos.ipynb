{
 "cells": [
  {
   "cell_type": "code",
   "execution_count": 37,
   "metadata": {},
   "outputs": [],
   "source": [
    "import psycopg2"
   ]
  },
  {
   "cell_type": "code",
   "execution_count": 38,
   "metadata": {},
   "outputs": [],
   "source": [
    "conn = psycopg2.connect(\"host=127.0.0.1 dbname=sparkifydb user=student password=student\")\n",
    "conn.set_session(autocommit=True)\n",
    "cur = conn.cursor()"
   ]
  },
  {
   "cell_type": "markdown",
   "metadata": {},
   "source": [
    "Count the numb of songplays in the database from paid users"
   ]
  },
  {
   "cell_type": "code",
   "execution_count": 39,
   "metadata": {},
   "outputs": [
    {
     "name": "stdout",
     "output_type": "stream",
     "text": [
      "5591\n"
     ]
    }
   ],
   "source": [
    "cur.execute(\"SELECT COUNT (*) FROM songplays WHERE songplays.level = 'paid';\")\n",
    "print(cur.fetchone()[0])"
   ]
  },
  {
   "cell_type": "markdown",
   "metadata": {},
   "source": [
    "Count the total number of songplays in the database"
   ]
  },
  {
   "cell_type": "code",
   "execution_count": 40,
   "metadata": {},
   "outputs": [
    {
     "name": "stdout",
     "output_type": "stream",
     "text": [
      "6820\n"
     ]
    }
   ],
   "source": [
    "cur.execute(\"SELECT COUNT(*) FROM songplays;\")\n",
    "print(cur.fetchone()[0])"
   ]
  },
  {
   "cell_type": "markdown",
   "metadata": {},
   "source": [
    "Count the number of songplays that occur on a Monday"
   ]
  },
  {
   "cell_type": "code",
   "execution_count": 41,
   "metadata": {},
   "outputs": [
    {
     "name": "stdout",
     "output_type": "stream",
     "text": [
      "1014\n"
     ]
    }
   ],
   "source": [
    "cur.execute(\"SELECT COUNT(*) FROM songplays JOIN time ON songplays.start_time = time.start_time WHERE time.weekday = 'Monday';\")\n",
    "results = cur.fetchall()[0][0]\n",
    "print(results)"
   ]
  },
  {
   "cell_type": "markdown",
   "metadata": {},
   "source": [
    "Find the total number of songplays in the database by day of week"
   ]
  },
  {
   "cell_type": "code",
   "execution_count": 42,
   "metadata": {},
   "outputs": [
    {
     "name": "stdout",
     "output_type": "stream",
     "text": [
      "{'Monday': 1014, 'Tuesday': 1071, 'Wednesday': 1364, 'Thursday': 1052, 'Friday': 1295, 'Saturday': 628, 'Sunday': 396}\n"
     ]
    }
   ],
   "source": [
    "days = ['Monday','Tuesday','Wednesday','Thursday','Friday','Saturday','Sunday']\n",
    "count = []\n",
    "\n",
    "for i, day in enumerate(days):\n",
    "    cur.execute(\"SELECT COUNT(*) FROM songplays JOIN time ON songplays.start_time = time.start_time WHERE time.weekday = %s;\",(day,))\n",
    "    count.append(cur.fetchall()[0][0]) \n",
    "\n",
    "count_by_day = dict(zip(days,count))\n",
    "print(count_by_day)"
   ]
  },
  {
   "cell_type": "markdown",
   "metadata": {},
   "source": [
    "Number of songplays by day of week for 'free' level users"
   ]
  },
  {
   "cell_type": "code",
   "execution_count": 43,
   "metadata": {},
   "outputs": [
    {
     "name": "stdout",
     "output_type": "stream",
     "text": [
      "{'Monday': 201, 'Tuesday': 199, 'Wednesday': 195, 'Thursday': 148, 'Friday': 257, 'Saturday': 108, 'Sunday': 121}\n"
     ]
    }
   ],
   "source": [
    "days = ['Monday','Tuesday','Wednesday','Thursday','Friday','Saturday','Sunday']\n",
    "count = []\n",
    "\n",
    "for i, day in enumerate(days):\n",
    "    cur.execute(\"SELECT COUNT(*) FROM songplays JOIN time ON songplays.start_time = time.start_time WHERE time.weekday = %s AND songplays.level = 'free';\",(day,))\n",
    "    count.append(cur.fetchall()[0][0]) \n",
    "\n",
    "count_by_day_free = dict(zip(days,count))\n",
    "print(count_by_day_free)"
   ]
  },
  {
   "cell_type": "markdown",
   "metadata": {},
   "source": [
    "Number of songplays by day of week for 'paid' level users"
   ]
  },
  {
   "cell_type": "code",
   "execution_count": 44,
   "metadata": {},
   "outputs": [
    {
     "name": "stdout",
     "output_type": "stream",
     "text": [
      "{'Monday': 813, 'Tuesday': 872, 'Wednesday': 1169, 'Thursday': 904, 'Friday': 1038, 'Saturday': 520, 'Sunday': 275}\n"
     ]
    }
   ],
   "source": [
    "days = ['Monday','Tuesday','Wednesday','Thursday','Friday','Saturday','Sunday']\n",
    "count = []\n",
    "\n",
    "for i, day in enumerate(days):\n",
    "    cur.execute(\"SELECT COUNT(*) FROM songplays JOIN time ON songplays.start_time = time.start_time WHERE time.weekday = %s AND songplays.level = 'paid';\",(day,))\n",
    "    count.append(cur.fetchall()[0][0]) \n",
    "\n",
    "count_by_day_paid = dict(zip(days,count))\n",
    "print(count_by_day_paid)"
   ]
  },
  {
   "cell_type": "markdown",
   "metadata": {},
   "source": [
    "Number of songs in songs table by year"
   ]
  },
  {
   "cell_type": "code",
   "execution_count": 45,
   "metadata": {},
   "outputs": [
    {
     "name": "stdout",
     "output_type": "stream",
     "text": [
      "{1961: 1, 1964: 1, 1969: 1, 1972: 1, 1985: 1, 1987: 1, 1992: 1, 1994: 1, 1997: 1, 1999: 1, 2000: 1, 2003: 1, 2004: 1, 2005: 1}\n"
     ]
    }
   ],
   "source": [
    "cur.execute(\"SELECT songs.year as year, COUNT(*) as count_all FROM songs GROUP BY songs.year ORDER BY songs.year ASC;\")\n",
    "results = cur.fetchall()\n",
    "count_songs_by_year = dict(results)\n",
    "print(count_songs_by_year)"
   ]
  },
  {
   "cell_type": "markdown",
   "metadata": {},
   "source": [
    "Find the top 3 locations by total songplays, return total songplays and location for each"
   ]
  },
  {
   "cell_type": "code",
   "execution_count": 46,
   "metadata": {},
   "outputs": [
    {
     "name": "stdout",
     "output_type": "stream",
     "text": [
      "[(691, 'San Francisco-Oakland-Hayward, CA'), (665, 'Portland-South Portland, ME'), (557, 'Lansing-East Lansing, MI')]\n"
     ]
    }
   ],
   "source": [
    "cur.execute(\"\"\"SELECT COUNT(*) as count_all, songplays.location as location FROM songplays \n",
    "            GROUP BY songplays.location ORDER BY count_all DESC LIMIT 3;\"\"\")\n",
    "top3_locations_by_songplays = cur.fetchall()\n",
    "print(top3_locations_by_songplays)"
   ]
  },
  {
   "cell_type": "markdown",
   "metadata": {},
   "source": [
    "Find the top 3 locations by total songplays for each day of week"
   ]
  },
  {
   "cell_type": "code",
   "execution_count": 47,
   "metadata": {},
   "outputs": [
    {
     "name": "stdout",
     "output_type": "stream",
     "text": [
      "{'Monday': [(152, 'Lake Havasu City-Kingman, AZ'), (114, 'Waterloo-Cedar Falls, IA'), (99, 'Tampa-St. Petersburg-Clearwater, FL')], 'Tuesday': [(150, 'Lansing-East Lansing, MI'), (106, 'Atlanta-Sandy Springs-Roswell, GA'), (97, 'San Francisco-Oakland-Hayward, CA')], 'Wednesday': [(224, 'Chicago-Naperville-Elgin, IL-IN-WI'), (193, 'Lansing-East Lansing, MI'), (181, 'Portland-South Portland, ME')], 'Thursday': [(142, 'San Francisco-Oakland-Hayward, CA'), (140, 'Portland-South Portland, ME'), (127, 'San Jose-Sunnyvale-Santa Clara, CA')], 'Friday': [(183, 'San Francisco-Oakland-Hayward, CA'), (158, 'Portland-South Portland, ME'), (137, 'Janesville-Beloit, WI')], 'Saturday': [(97, 'Winston-Salem, NC'), (96, 'Tampa-St. Petersburg-Clearwater, FL'), (80, 'San Francisco-Oakland-Hayward, CA')], 'Sunday': [(119, 'Atlanta-Sandy Springs-Roswell, GA'), (54, 'Waterloo-Cedar Falls, IA'), (37, 'San Francisco-Oakland-Hayward, CA')]}\n"
     ]
    }
   ],
   "source": [
    "days = ['Monday','Tuesday','Wednesday','Thursday','Friday','Saturday','Sunday']\n",
    "top3 = []\n",
    "\n",
    "for i, day in enumerate(days):\n",
    "    cur.execute(\"SELECT COUNT(*) as count_all, songplays.location as location FROM songplays JOIN time ON songplays.start_time = time.start_time WHERE time.weekday = %s GROUP BY songplays.location ORDER BY count_all DESC;\",(day,))\n",
    "    top3.append(cur.fetchall()[0:3]) \n",
    "\n",
    "top3_locations_by_day = dict(zip(days,top3))\n",
    "print(top3_locations_by_day)"
   ]
  },
  {
   "cell_type": "markdown",
   "metadata": {},
   "source": [
    "Find the top 3 locations by number of unique users, return the count and location"
   ]
  },
  {
   "cell_type": "code",
   "execution_count": 48,
   "metadata": {},
   "outputs": [
    {
     "name": "stdout",
     "output_type": "stream",
     "text": [
      "[(10, 'New York-Newark-Jersey City, NY-NJ-PA'), (4, 'Houston-The Woodlands-Sugar Land, TX'), (3, 'Chicago-Naperville-Elgin, IL-IN-WI')]\n"
     ]
    }
   ],
   "source": [
    "cur.execute(\"\"\"WITH unique_users AS (SELECT DISTINCT on (user_id) user_id, location, level  FROM songplays) \n",
    "            SELECT COUNT (*) as count_all, unique_users.location FROM unique_users GROUP BY unique_users.location \n",
    "            ORDER BY count_all DESC LIMIT 3;\"\"\")\n",
    "top3_locations_by_unique_users = cur.fetchall()\n",
    "print(top3_locations_by_unique_users)"
   ]
  },
  {
   "cell_type": "markdown",
   "metadata": {},
   "source": [
    "Number of unique users by day of week for 'free' level"
   ]
  },
  {
   "cell_type": "code",
   "execution_count": 49,
   "metadata": {},
   "outputs": [
    {
     "name": "stdout",
     "output_type": "stream",
     "text": [
      "{'Monday': 47, 'Tuesday': 45, 'Wednesday': 50, 'Thursday': 45, 'Friday': 52, 'Saturday': 36, 'Sunday': 35}\n"
     ]
    }
   ],
   "source": [
    "days = ['Monday','Tuesday','Wednesday','Thursday','Friday','Saturday','Sunday']\n",
    "count = []\n",
    "\n",
    "for i, day in enumerate(days):\n",
    "    cur.execute(\"\"\"WITH unique_users AS (SELECT DISTINCT on (user_id) user_id, location, level, time.weekday FROM songplays JOIN time\n",
    "                ON songplays.start_time = time.start_time WHERE level = 'free' AND weekday = %s) \n",
    "                SELECT COUNT (*) as count_all FROM unique_users;\"\"\",(day,))\n",
    "    count.append(cur.fetchall()[0][0])\n",
    "unique_users_by_day_free = dict(zip(days,count))\n",
    "print(unique_users_by_day_free)"
   ]
  },
  {
   "cell_type": "markdown",
   "metadata": {},
   "source": [
    "Number of unique users by day of week for 'paid' level"
   ]
  },
  {
   "cell_type": "code",
   "execution_count": 50,
   "metadata": {},
   "outputs": [
    {
     "name": "stdout",
     "output_type": "stream",
     "text": [
      "{'Monday': 16, 'Tuesday': 16, 'Wednesday': 16, 'Thursday': 14, 'Friday': 16, 'Saturday': 11, 'Sunday': 6}\n"
     ]
    }
   ],
   "source": [
    "days = ['Monday','Tuesday','Wednesday','Thursday','Friday','Saturday','Sunday']\n",
    "count = []\n",
    "\n",
    "for i, day in enumerate(days):\n",
    "    cur.execute(\"\"\"WITH unique_users AS (SELECT DISTINCT on (user_id) user_id, location, level, time.weekday FROM songplays JOIN time\n",
    "                ON songplays.start_time = time.start_time WHERE level = 'paid' AND weekday = %s) \n",
    "                SELECT COUNT (*) as count_all FROM unique_users;\"\"\",(day,))\n",
    "    count.append(cur.fetchall()[0][0])\n",
    "unique_users_by_day_free = dict(zip(days,count))\n",
    "print(unique_users_by_day_free)"
   ]
  },
  {
   "cell_type": "markdown",
   "metadata": {},
   "source": [
    "Top 3 paid users by total number of songs played"
   ]
  },
  {
   "cell_type": "code",
   "execution_count": 51,
   "metadata": {},
   "outputs": [
    {
     "name": "stdout",
     "output_type": "stream",
     "text": [
      "[(650, 'Chloe', 'Cuevas', 'F'), (648, 'Tegan', 'Levine', 'F'), (557, 'Kate', 'Harrell', 'F')]\n"
     ]
    }
   ],
   "source": [
    "cur.execute(\"\"\"SELECT COUNT (*) as count_all,  users.first_name, users.last_name, users.gender FROM songplays JOIN users\n",
    "            ON songplays.user_id = users.user_id WHERE songplays.level = 'paid' GROUP BY first_name, last_name, gender\n",
    "            ORDER BY count_all DESC LIMIT 3;\"\"\")\n",
    "top3_paid_users_by_songplays = cur.fetchall()\n",
    "print(top3_paid_users_by_songplays)"
   ]
  },
  {
   "cell_type": "markdown",
   "metadata": {},
   "source": [
    "## REMEMBER: Restart this notebook to close connection to `sparkifydb`\n",
    "Each time you run the cells above, remember to restart this notebook to close the connection to your database. Otherwise, you won't be able to run your code in `create_tables.py`, `etl.py`, or `etl.ipynb` files since you can't make multiple connections to the same database (in this case, sparkifydb)."
   ]
  },
  {
   "cell_type": "code",
   "execution_count": 52,
   "metadata": {},
   "outputs": [],
   "source": [
    "conn.close()"
   ]
  },
  {
   "cell_type": "code",
   "execution_count": null,
   "metadata": {},
   "outputs": [],
   "source": []
  }
 ],
 "metadata": {
  "kernelspec": {
   "display_name": "Python 3",
   "language": "python",
   "name": "python3"
  },
  "language_info": {
   "codemirror_mode": {
    "name": "ipython",
    "version": 3
   },
   "file_extension": ".py",
   "mimetype": "text/x-python",
   "name": "python",
   "nbconvert_exporter": "python",
   "pygments_lexer": "ipython3",
   "version": "3.7.4"
  }
 },
 "nbformat": 4,
 "nbformat_minor": 2
}
