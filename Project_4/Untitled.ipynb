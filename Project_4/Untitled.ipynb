{
 "cells": [
  {
   "cell_type": "code",
   "execution_count": 63,
   "metadata": {},
   "outputs": [],
   "source": [
    "import os\n",
    "import glob\n",
    "\n",
    "import pyspark\n",
    "from pyspark import SparkConf\n",
    "from pyspark.sql import SparkSession\n",
    "from pyspark.sql.types import *"
   ]
  },
  {
   "cell_type": "code",
   "execution_count": 2,
   "metadata": {},
   "outputs": [],
   "source": [
    "spark = SparkSession \\\n",
    "    .builder \\\n",
    "    .appName(\"Spark Local Analysis Development\") \\\n",
    "    .getOrCreate()"
   ]
  },
  {
   "cell_type": "code",
   "execution_count": 3,
   "metadata": {},
   "outputs": [
    {
     "data": {
      "text/plain": [
       "[('spark.rdd.compress', 'True'),\n",
       " ('spark.driver.port', '50655'),\n",
       " ('spark.serializer.objectStreamReset', '100'),\n",
       " ('spark.app.name', 'Spark Local Analysis Development'),\n",
       " ('spark.master', 'local[*]'),\n",
       " ('spark.executor.id', 'driver'),\n",
       " ('spark.submit.deployMode', 'client'),\n",
       " ('spark.driver.host', 'matts-mbp'),\n",
       " ('spark.ui.showConsoleProgress', 'true'),\n",
       " ('spark.app.id', 'local-1585456578232')]"
      ]
     },
     "execution_count": 3,
     "metadata": {},
     "output_type": "execute_result"
    }
   ],
   "source": [
    "spark.sparkContext.getConf().getAll()"
   ]
  },
  {
   "cell_type": "code",
   "execution_count": 4,
   "metadata": {},
   "outputs": [
    {
     "data": {
      "text/html": [
       "\n",
       "            <div>\n",
       "                <p><b>SparkSession - in-memory</b></p>\n",
       "                \n",
       "        <div>\n",
       "            <p><b>SparkContext</b></p>\n",
       "\n",
       "            <p><a href=\"http://matts-mbp:4040\">Spark UI</a></p>\n",
       "\n",
       "            <dl>\n",
       "              <dt>Version</dt>\n",
       "                <dd><code>v2.4.5</code></dd>\n",
       "              <dt>Master</dt>\n",
       "                <dd><code>local[*]</code></dd>\n",
       "              <dt>AppName</dt>\n",
       "                <dd><code>Spark Local Analysis Development</code></dd>\n",
       "            </dl>\n",
       "        </div>\n",
       "        \n",
       "            </div>\n",
       "        "
      ],
      "text/plain": [
       "<pyspark.sql.session.SparkSession at 0x110e14210>"
      ]
     },
     "execution_count": 4,
     "metadata": {},
     "output_type": "execute_result"
    }
   ],
   "source": [
    "spark"
   ]
  },
  {
   "cell_type": "code",
   "execution_count": 7,
   "metadata": {},
   "outputs": [],
   "source": [
    "def get_files(filepath):\n",
    "    all_files = []\n",
    "    for root, dirs, files in os.walk(filepath):\n",
    "        files = glob.glob(os.path.join(root,'*.json'))\n",
    "        for f in files :\n",
    "            all_files.append(os.path.abspath(f))\n",
    "    \n",
    "    return all_files"
   ]
  },
  {
   "cell_type": "code",
   "execution_count": 10,
   "metadata": {},
   "outputs": [],
   "source": [
    "song_files = get_files('data/song_data')"
   ]
  },
  {
   "cell_type": "code",
   "execution_count": 36,
   "metadata": {},
   "outputs": [],
   "source": [
    "log_files = get_files('data/log-data')"
   ]
  },
  {
   "cell_type": "code",
   "execution_count": 87,
   "metadata": {},
   "outputs": [],
   "source": [
    "song_schema = StructType([StructField('num_songs', IntegerType(), False),\n",
    "                     StructField('artist_id', StringType(), False),\n",
    "                     StructField('artist_latitude', DoubleType(), False),\n",
    "                     StructField('artist_longitude', DoubleType(), False),\n",
    "                     StructField('artist_location', StringType(), False),\n",
    "                     StructField('artist_name', StringType(),False),\n",
    "                     StructField('song_id', StringType(), False),\n",
    "                     StructField('title', StringType(), False),\n",
    "                     StructField('duration', FloatType(), False),\n",
    "                     StructField('year', IntegerType(), False)])"
   ]
  },
  {
   "cell_type": "markdown",
   "metadata": {},
   "source": [
    "There is something wrong in the data in the log jsons that throw an error when trying to cast as a non-String type at import which causes the entire row to be nulled.  For this reason, we'll still keep consistant with song_data and define a schema but for log_schema all types will be String."
   ]
  },
  {
   "cell_type": "code",
   "execution_count": 147,
   "metadata": {},
   "outputs": [],
   "source": [
    "log_schema = StructType([StructField('artist', StringType(), True),\n",
    "                     StructField('auth', StringType(), True),\n",
    "                     StructField('firstName', StringType(), True),\n",
    "                     StructField('gender', StringType(), True),\n",
    "                     StructField('itemInSession', StringType(), True),\n",
    "                     StructField('lastName', StringType(),True),\n",
    "                     StructField('length', StringType(), True),\n",
    "                     StructField('level', StringType(), True),\n",
    "                     StructField('location', StringType(), True),\n",
    "                     StructField('method', StringType(), True),\n",
    "                     StructField('page', StringType(), True),\n",
    "                     StructField('registration', StringType(), True),\n",
    "                     StructField('sessionId', StringType(), True),\n",
    "                     StructField('song', StringType(), True),\n",
    "                     StructField('status', StringType(), True),\n",
    "                     StructField('ts', StringType(), True),\n",
    "                     StructField('userAgent', StringType(), True),\n",
    "                     StructField('userId', StringType(), True)])"
   ]
  },
  {
   "cell_type": "code",
   "execution_count": 148,
   "metadata": {},
   "outputs": [],
   "source": [
    "song_data = spark.read.schema(song_schema).option(\"multiline\",\"true\").json(song_files)"
   ]
  },
  {
   "cell_type": "code",
   "execution_count": 149,
   "metadata": {},
   "outputs": [],
   "source": [
    "log_data = spark.read.schema(log_schema).option(\"multiline\",\"true\").json(log_files)"
   ]
  },
  {
   "cell_type": "code",
   "execution_count": 152,
   "metadata": {},
   "outputs": [
    {
     "name": "stdout",
     "output_type": "stream",
     "text": [
      "root\n",
      " |-- num_songs: integer (nullable = true)\n",
      " |-- artist_id: string (nullable = true)\n",
      " |-- artist_latitude: double (nullable = true)\n",
      " |-- artist_longitude: double (nullable = true)\n",
      " |-- artist_location: string (nullable = true)\n",
      " |-- artist_name: string (nullable = true)\n",
      " |-- song_id: string (nullable = true)\n",
      " |-- title: string (nullable = true)\n",
      " |-- duration: float (nullable = true)\n",
      " |-- year: integer (nullable = true)\n",
      "\n"
     ]
    }
   ],
   "source": [
    "song_data.printSchema()"
   ]
  },
  {
   "cell_type": "markdown",
   "metadata": {},
   "source": [
    "Despite setting nullable as false in the schema, when imported the schema of song_data shows all are nullable?!?"
   ]
  },
  {
   "cell_type": "code",
   "execution_count": 153,
   "metadata": {},
   "outputs": [
    {
     "name": "stdout",
     "output_type": "stream",
     "text": [
      "root\n",
      " |-- artist: string (nullable = true)\n",
      " |-- auth: string (nullable = true)\n",
      " |-- firstName: string (nullable = true)\n",
      " |-- gender: string (nullable = true)\n",
      " |-- itemInSession: string (nullable = true)\n",
      " |-- lastName: string (nullable = true)\n",
      " |-- length: string (nullable = true)\n",
      " |-- level: string (nullable = true)\n",
      " |-- location: string (nullable = true)\n",
      " |-- method: string (nullable = true)\n",
      " |-- page: string (nullable = true)\n",
      " |-- registration: string (nullable = true)\n",
      " |-- sessionId: string (nullable = true)\n",
      " |-- song: string (nullable = true)\n",
      " |-- status: string (nullable = true)\n",
      " |-- ts: string (nullable = true)\n",
      " |-- userAgent: string (nullable = true)\n",
      " |-- userId: string (nullable = true)\n",
      "\n"
     ]
    }
   ],
   "source": [
    "log_data.printSchema()"
   ]
  },
  {
   "cell_type": "markdown",
   "metadata": {},
   "source": [
    "#### Data Cleaning"
   ]
  },
  {
   "cell_type": "markdown",
   "metadata": {},
   "source": [
    "From previous inspection of this data, we know there are multiple null entries as well as invalid year entries (reads as 0)"
   ]
  },
  {
   "cell_type": "code",
   "execution_count": 157,
   "metadata": {},
   "outputs": [],
   "source": [
    "song_data_clean = song_data.na.drop()"
   ]
  },
  {
   "cell_type": "code",
   "execution_count": 161,
   "metadata": {},
   "outputs": [],
   "source": [
    "log_data_clean = log_data.na.drop()"
   ]
  },
  {
   "cell_type": "code",
   "execution_count": 165,
   "metadata": {},
   "outputs": [
    {
     "name": "stdout",
     "output_type": "stream",
     "text": [
      "+---------+------------------+---------------+----------------+--------------------+--------------------+------------------+--------------------+---------+----+\n",
      "|num_songs|         artist_id|artist_latitude|artist_longitude|     artist_location|         artist_name|           song_id|               title| duration|year|\n",
      "+---------+------------------+---------------+----------------+--------------------+--------------------+------------------+--------------------+---------+----+\n",
      "|        1|ARMAC4T1187FB3FA4C|       40.82624|       -74.47995|   Morris Plains, NJ|The Dillinger Esc...|SOBBUGU12A8C13E95D|Setting Fire to S...|207.77751|2004|\n",
      "|        1|ARPBNLO1187FB3D52F|       40.71455|       -74.00712|        New York, NY|            Tiny Tim|SOAOIBZ12AB01815BE|I Hold Your Hand ...| 43.36281|2000|\n",
      "|        1|ARDNS031187B9924F0|       32.67828|       -83.22295|             Georgia|          Tim Wilson|SONYPOM12A8C13B2D7|I Think My Wife I...|186.48772|2005|\n",
      "|        1|ARNF6401187FB57032|       40.79086|       -73.96644|New York, NY [Man...|   Sophie B. Hawkins|SONWXQJ12A8C134D94|The Ballad Of Sle...|  305.162|1994|\n",
      "|        1|ARLTWXK1187FB5A3F8|       32.74863|       -97.32925|      Fort Worth, TX|         King Curtis|SODREIN12A58A7F2E5|A Whiter Shade Of...|326.00772|   0|\n",
      "|        1|ARPFHN61187FB575F6|       41.88415|       -87.63241|         Chicago, IL|         Lupe Fiasco|SOWQTQZ12A58A7B63E|Streets On Fire (...|279.97995|   0|\n",
      "|        1|ARI2JSK1187FB496EF|       51.50632|        -0.12714|     London, England|Nick Ingman;Gavyn...|SODUJBS12A8C132150|Wessex Loses a Bride|111.62077|   0|\n",
      "|        1|AR0RCMP1187FB3F427|       30.08615|       -94.10158|        Beaumont, TX|    Billie Jo Spears|SOGXHEG12AB018653E|It Makes No Diffe...|133.32854|1992|\n",
      "|        1|AROUOZZ1187B9ABE51|       40.79195|       -73.94512|New York, NY [Spa...|         Willie Bobo|SOBZBAZ12A6D4F8742|      Spanish Grease|168.25424|1997|\n",
      "|        1|AR47JEX1187B995D81|       37.83721|       -94.35868|          Nevada, MO|        SUE THOMPSON|SOBLGCN12AB0183212|James (Hold The L...|124.86485|1985|\n",
      "|        1|ARB29H41187B98F0EF|       41.88415|       -87.63241|             Chicago|       Terry Callier|SOGNCJP12A58A80271|Do You Finally Ne...|342.56934|1972|\n",
      "|        1|ARQGYP71187FB44566|       34.31109|       -94.02978|         Mineola, AR|        Jimmy Wakely|SOWTBJW12AC468AC6E|Broken-Down Merry...|151.84933|   0|\n",
      "|        1|ARMBR4Y1187B9990EB|       37.77916|      -122.42005|     California - SF|        David Martin|SOTTDKS12AB018D69B|It Wont Be Christmas|241.47546|   0|\n",
      "|        1|AR36F9J1187FB406F1|       56.27609|         9.51695|             Denmark|      Bombay Rockers|SOBKWDJ12A8C13B2F3|Wild Rose (Back 2...|230.71301|   0|\n",
      "|        1|ARD842G1187B997376|       43.64856|       -79.38533|Toronto, Ontario,...|          Blue Rodeo|SOHUOAP12A8AE488E9|            Floating|491.12772|1987|\n",
      "|        1|ARQ9BO41187FB5CF1F|       40.99471|       -77.60454|        Pennsylvania|          John Davis|SOMVWWT12A58A7AE05|Knocked Out Of Th...|183.17017|   0|\n",
      "|        1|AR3JMC51187B9AE49D|       28.53823|       -81.37739|         Orlando, FL|     Backstreet Boys|SOPVXLX12A8C1402D5|    Larger Than Life|236.25098|1999|\n",
      "|        1|ARGCY1Y1187B9A4FA5|       36.16778|       -86.77836|      Nashville, TN.|            Gloriana|SOQOTLQ12AB01868D0|  Clementina Santafè|153.33832|   0|\n",
      "|        1|ARH4Z031187B9A71F2|       40.73197|       -74.17418|          Newark, NJ|          Faye Adams|SOVYKGO12AB0187199|Crazy Mixed Up World|156.39465|1961|\n",
      "|        1|ARBGXIG122988F409D|       37.77916|      -122.42005|     California - SF|          Steel Rain|SOOJPRH12A8C141995|   Loaded Like A Gun|173.19138|   0|\n",
      "+---------+------------------+---------------+----------------+--------------------+--------------------+------------------+--------------------+---------+----+\n",
      "only showing top 20 rows\n",
      "\n"
     ]
    }
   ],
   "source": [
    "song_data_clean = song_data_clean.filter(song_data_clean.year != \"0\")"
   ]
  },
  {
   "cell_type": "code",
   "execution_count": 172,
   "metadata": {},
   "outputs": [
    {
     "name": "stdout",
     "output_type": "stream",
     "text": [
      "+--------------------+---------+---------+------+-------------+---------+---------+-----+--------------------+------+--------+-----------------+---------+--------------------+------+-------------+--------------------+------+\n",
      "|              artist|     auth|firstName|gender|itemInSession| lastName|   length|level|            location|method|    page|     registration|sessionId|                song|status|           ts|           userAgent|userId|\n",
      "+--------------------+---------+---------+------+-------------+---------+---------+-----+--------------------+------+--------+-----------------+---------+--------------------+------+-------------+--------------------+------+\n",
      "|            Harmonia|Logged In|     Ryan|     M|            0|    Smith|655.77751| free|San Jose-Sunnyval...|   PUT|NextSong|1.541016707796E12|      583|       Sehr kosmisch|   200|1542241826796|\"Mozilla/5.0 (X11...|    26|\n",
      "|     The Grass Roots|Logged In|     Sara|     F|           72|  Johnson|166.71302| paid|   Winston-Salem, NC|   PUT|NextSong|1.540809153796E12|      411|Let's Live For Today|   200|1542153802796|\"Mozilla/5.0 (iPh...|    95|\n",
      "|Mitch Ryder & The...|Logged In|    Tegan|     F|           65|   Levine|205.03465| paid|Portland-South Po...|   PUT|NextSong|1.540794356796E12|      992|Jenny Take A Ride...|   200|1543363215796|\"Mozilla/5.0 (Mac...|    80|\n",
      "|       A Fine Frenzy|Logged In| Anabelle|     F|            0|  Simpson|267.91138| free|Philadelphia-Camd...|   PUT|NextSong|1.541044398796E12|      256|Almost Lover (Alb...|   200|1541377992796|\"Mozilla/5.0 (Mac...|    69|\n",
      "|       Stephen Lynch|Logged In|   Jayden|     M|            0|     Bell|182.85669| free|Dallas-Fort Worth...|   PUT|NextSong|1.540991795796E12|      829|   Jim Henson's Dead|   200|1543537327796|Mozilla/5.0 (comp...|    91|\n",
      "|            Mudhoney|Logged In|   Aleena|     F|           10|    Kirby|231.57506| paid|Waterloo-Cedar Fa...|   PUT|NextSong|1.541022995796E12|      637|      Get Into Yours|   200|1542326457796|Mozilla/5.0 (Maci...|    44|\n",
      "|         The Killers|Logged In|   Jayden|     M|           32|   Graves|246.80444| paid|    Marinette, WI-MI|   PUT|NextSong|1.540664184796E12|      594|        Read My Mind|   200|1542672042796|\"Mozilla/5.0 (Win...|    25|\n",
      "|The Future Sound ...|Logged In|     Ryan|     M|            0|    Smith|405.28934| free|San Jose-Sunnyval...|   PUT|NextSong|1.541016707796E12|      873|    Papua New Guinea|   200|1543020300796|\"Mozilla/5.0 (X11...|    26|\n",
      "|   Sydney Youngblood|Logged In|    Jacob|     M|           53|    Klein|238.07955| paid|Tampa-St. Petersb...|   PUT|NextSong|1.540558108796E12|      954|   Ain't No Sunshine|   200|1543449657796|\"Mozilla/5.0 (Mac...|    73|\n",
      "|Barry Tuckwell/Ac...|Logged In| Mohammad|     M|            0|Rodriguez|277.15873| paid|Sacramento--Rosev...|   PUT|NextSong|1.540511766796E12|      961|Horn Concerto No....|   200|1543279932796|\"Mozilla/5.0 (Mac...|    88|\n",
      "| Great Lake Swimmers|Logged In|    Kevin|     M|            0| Arellano|215.11791| free|Harrisburg-Carlis...|   PUT|NextSong|1.540006905796E12|      815|    Your Rocky Spine|   200|1542931645796|\"Mozilla/5.0 (Mac...|    66|\n",
      "|                Muse|Logged In|   Harper|     M|            1|  Barrett|209.50159| paid|New York-Newark-J...|   PUT|NextSong|1.540685364796E12|      275|Supermassive Blac...|   200|1541721977796|\"Mozilla/5.0 (Win...|    42|\n",
      "|                Muse|Logged In|   Jordan|     F|            3|    Hicks|259.26485| free|         Salinas, CA|   PUT|NextSong|1.540008898796E12|      814|Supermassive Blac...|   200|1543190563796|\"Mozilla/5.0 (Mac...|    37|\n",
      "|        Miami Horror|Logged In|     Kate|     F|           88|  Harrell| 250.8273| paid|Lansing-East Lans...|   PUT|NextSong|1.540472624796E12|      293|           Sometimes|   200|1541548876796|\"Mozilla/5.0 (X11...|    97|\n",
      "|N.E.R.D. FEATURIN...|Logged In|   Jayden|     M|            0|      Fox| 288.9922| free|New Orleans-Metai...|   PUT|NextSong|1.541033612796E12|      184|Am I High (Feat. ...|   200|1541121934796|\"Mozilla/5.0 (Win...|   101|\n",
      "|     Rokia TraorÃÂ©|Logged In|  Stefany|     F|            0|    White|274.88608| free|         Lubbock, TX|   PUT|NextSong|1.540708070796E12|      693|                 Zen|   200|1542508401796|\"Mozilla/5.0 (Mac...|    83|\n",
      "|             Kenny G|Logged In|    Chloe|     F|           53|   Cuevas|256.57424| paid|San Francisco-Oak...|   PUT|NextSong|1.540940782796E12|      648|         Everlasting|   200|1542412944796|Mozilla/5.0 (Wind...|    49|\n",
      "| Dee Dee Bridgewater|Logged In|     Lily|     F|           38|     Koch|318.64118| paid|Chicago-Napervill...|   PUT|NextSong|1.541048010796E12|      818|      La Vie En Rose|   200|1542845032796|\"Mozilla/5.0 (X11...|    15|\n",
      "|          Hoobastank|Logged In|   Cierra|     F|            0|   Finley| 241.3971| free|        Richmond, VA|   PUT|NextSong|1.541013292796E12|      132|        Say The Same|   200|1541808927796|\"Mozilla/5.0 (Mac...|    96|\n",
      "|            Frumpies|Logged In| Anabelle|     F|            0|  Simpson|134.47791| free|Philadelphia-Camd...|   PUT|NextSong|1.541044398796E12|      455|          Fuck Kitty|   200|1541903636796|\"Mozilla/5.0 (Mac...|    69|\n",
      "+--------------------+---------+---------+------+-------------+---------+---------+-----+--------------------+------+--------+-----------------+---------+--------------------+------+-------------+--------------------+------+\n",
      "only showing top 20 rows\n",
      "\n"
     ]
    }
   ],
   "source": [
    "log_data_clean.show()"
   ]
  },
  {
   "cell_type": "code",
   "execution_count": 170,
   "metadata": {},
   "outputs": [
    {
     "name": "stdout",
     "output_type": "stream",
     "text": [
      "+---------+------------------+---------------+----------------+--------------------+--------------------+------------------+--------------------+---------+----+\n",
      "|num_songs|         artist_id|artist_latitude|artist_longitude|     artist_location|         artist_name|           song_id|               title| duration|year|\n",
      "+---------+------------------+---------------+----------------+--------------------+--------------------+------------------+--------------------+---------+----+\n",
      "|        1|ARMAC4T1187FB3FA4C|       40.82624|       -74.47995|   Morris Plains, NJ|The Dillinger Esc...|SOBBUGU12A8C13E95D|Setting Fire to S...|207.77751|2004|\n",
      "|        1|ARPBNLO1187FB3D52F|       40.71455|       -74.00712|        New York, NY|            Tiny Tim|SOAOIBZ12AB01815BE|I Hold Your Hand ...| 43.36281|2000|\n",
      "|        1|ARDNS031187B9924F0|       32.67828|       -83.22295|             Georgia|          Tim Wilson|SONYPOM12A8C13B2D7|I Think My Wife I...|186.48772|2005|\n",
      "|        1|ARNF6401187FB57032|       40.79086|       -73.96644|New York, NY [Man...|   Sophie B. Hawkins|SONWXQJ12A8C134D94|The Ballad Of Sle...|  305.162|1994|\n",
      "|        1|AR0RCMP1187FB3F427|       30.08615|       -94.10158|        Beaumont, TX|    Billie Jo Spears|SOGXHEG12AB018653E|It Makes No Diffe...|133.32854|1992|\n",
      "|        1|AROUOZZ1187B9ABE51|       40.79195|       -73.94512|New York, NY [Spa...|         Willie Bobo|SOBZBAZ12A6D4F8742|      Spanish Grease|168.25424|1997|\n",
      "|        1|AR47JEX1187B995D81|       37.83721|       -94.35868|          Nevada, MO|        SUE THOMPSON|SOBLGCN12AB0183212|James (Hold The L...|124.86485|1985|\n",
      "|        1|ARB29H41187B98F0EF|       41.88415|       -87.63241|             Chicago|       Terry Callier|SOGNCJP12A58A80271|Do You Finally Ne...|342.56934|1972|\n",
      "|        1|ARD842G1187B997376|       43.64856|       -79.38533|Toronto, Ontario,...|          Blue Rodeo|SOHUOAP12A8AE488E9|            Floating|491.12772|1987|\n",
      "|        1|AR3JMC51187B9AE49D|       28.53823|       -81.37739|         Orlando, FL|     Backstreet Boys|SOPVXLX12A8C1402D5|    Larger Than Life|236.25098|1999|\n",
      "|        1|ARH4Z031187B9A71F2|       40.73197|       -74.17418|          Newark, NJ|          Faye Adams|SOVYKGO12AB0187199|Crazy Mixed Up World|156.39465|1961|\n",
      "|        1|ARAJPHH1187FB5566A|        40.7038|       -73.83168|          Queens, NY|     The Shangri-Las|SOYTPEP12AB0180E7B|     Twist and Shout|164.80608|1964|\n",
      "|        1|ARMJAGH1187FB546F3|       35.14968|       -90.04892|         Memphis, TN|        The Box Tops|SOCIWDW12A8C13D406|           Soul Deep|148.03546|1969|\n",
      "|        1|AR0IAWL1187B9A96D0|         8.4177|       -80.11278|              Panama|        Danilo Perez|SONSKXP12A8C13A2C9|         Native Soul| 197.1979|2003|\n",
      "+---------+------------------+---------------+----------------+--------------------+--------------------+------------------+--------------------+---------+----+\n",
      "\n"
     ]
    }
   ],
   "source": [
    "song_data_clean.show()"
   ]
  },
  {
   "cell_type": "code",
   "execution_count": null,
   "metadata": {},
   "outputs": [],
   "source": []
  }
 ],
 "metadata": {
  "kernelspec": {
   "display_name": "Python 3",
   "language": "python",
   "name": "python3"
  },
  "language_info": {
   "codemirror_mode": {
    "name": "ipython",
    "version": 3
   },
   "file_extension": ".py",
   "mimetype": "text/x-python",
   "name": "python",
   "nbconvert_exporter": "python",
   "pygments_lexer": "ipython3",
   "version": "3.7.4"
  }
 },
 "nbformat": 4,
 "nbformat_minor": 2
}
