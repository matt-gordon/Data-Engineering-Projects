{
 "cells": [
  {
   "cell_type": "markdown",
   "metadata": {},
   "source": [
    "# Project 3 - Data Warehouse Demo Queries\n",
    "Example database queries to demonstrate that Sparkify analytics tables loaded on Sparkify Redshift cluster can be queried by the analytics team to generate insight."
   ]
  },
  {
   "cell_type": "code",
   "execution_count": 1,
   "metadata": {},
   "outputs": [],
   "source": [
    "import pandas as pd\n",
    "import configparser\n",
    "import psycopg2"
   ]
  },
  {
   "cell_type": "code",
   "execution_count": 2,
   "metadata": {},
   "outputs": [
    {
     "data": {
      "text/plain": [
       "['dwh.cfg']"
      ]
     },
     "execution_count": 2,
     "metadata": {},
     "output_type": "execute_result"
    }
   ],
   "source": [
    "# Load configuration data to connect to Redshift cluster\n",
    "config = configparser.ConfigParser()\n",
    "config.read('dwh.cfg')"
   ]
  },
  {
   "cell_type": "code",
   "execution_count": 3,
   "metadata": {},
   "outputs": [],
   "source": [
    "## Establish connection to Redshift cluster\n",
    "try:\n",
    "    conn = psycopg2.connect(\"host={} dbname={} user={} password={} port={}\".format(*config['CLUSTER'].values()))\n",
    "    cur = conn.cursor()\n",
    "except Exception as e:\n",
    "    print(e)"
   ]
  },
  {
   "cell_type": "markdown",
   "metadata": {},
   "source": [
    "Count the number of songplays in the database from paid users"
   ]
  },
  {
   "cell_type": "code",
   "execution_count": 4,
   "metadata": {},
   "outputs": [
    {
     "name": "stdout",
     "output_type": "stream",
     "text": [
      "82\n"
     ]
    }
   ],
   "source": [
    "try:  \n",
    "    cur.execute(\"SELECT COUNT (*) FROM fact_songplays WHERE fact_songplays.level = 'paid';\")\n",
    "    print(cur.fetchone()[0])\n",
    "except Exception as e:\n",
    "    print(e)"
   ]
  },
  {
   "cell_type": "markdown",
   "metadata": {},
   "source": [
    "Count the total number of songplays in the database"
   ]
  },
  {
   "cell_type": "code",
   "execution_count": 5,
   "metadata": {},
   "outputs": [
    {
     "name": "stdout",
     "output_type": "stream",
     "text": [
      "105\n"
     ]
    }
   ],
   "source": [
    "try:  \n",
    "    cur.execute(\"SELECT COUNT(*) FROM fact_songplays;\")\n",
    "    print(cur.fetchone()[0])\n",
    "except Exception as e:\n",
    "    print(e)"
   ]
  },
  {
   "cell_type": "markdown",
   "metadata": {},
   "source": [
    "Count the number of songplays that occur on a Monday"
   ]
  },
  {
   "cell_type": "code",
   "execution_count": 6,
   "metadata": {},
   "outputs": [
    {
     "name": "stdout",
     "output_type": "stream",
     "text": [
      "17\n"
     ]
    }
   ],
   "source": [
    "try:    \n",
    "    cur.execute(\"SELECT COUNT(*) FROM fact_songplays JOIN dim_time ON fact_songplays.start_time = dim_time.start_time WHERE dim_time.weekday = 'Monday';\")\n",
    "    results = cur.fetchall()[0][0]\n",
    "    print(results)\n",
    "except Exception as e:\n",
    "    print(e)"
   ]
  },
  {
   "cell_type": "markdown",
   "metadata": {},
   "source": [
    "Find the total number of songplays in the database by day of week"
   ]
  },
  {
   "cell_type": "code",
   "execution_count": 7,
   "metadata": {},
   "outputs": [
    {
     "name": "stdout",
     "output_type": "stream",
     "text": [
      "{'Monday': 17, 'Tuesday': 16, 'Wednesday': 20, 'Thursday': 23, 'Friday': 15, 'Saturday': 8, 'Sunday': 6}\n"
     ]
    }
   ],
   "source": [
    "try:   \n",
    "    days = ['Monday','Tuesday','Wednesday','Thursday','Friday','Saturday','Sunday']\n",
    "    count = []\n",
    "\n",
    "    for i, day in enumerate(days):\n",
    "        cur.execute(\"SELECT COUNT(*) FROM fact_songplays JOIN dim_time ON fact_songplays.start_time = dim_time.start_time WHERE dim_time.weekday = %s;\",(day,))\n",
    "        count.append(cur.fetchall()[0][0]) \n",
    "\n",
    "    count_by_day = dict(zip(days,count))\n",
    "    print(count_by_day)\n",
    "except Exception as e:\n",
    "    print(e)"
   ]
  },
  {
   "cell_type": "markdown",
   "metadata": {},
   "source": [
    "Number of songplays by day of week for 'free' level users"
   ]
  },
  {
   "cell_type": "code",
   "execution_count": 8,
   "metadata": {},
   "outputs": [
    {
     "name": "stdout",
     "output_type": "stream",
     "text": [
      "{'Monday': 4, 'Tuesday': 4, 'Wednesday': 3, 'Thursday': 2, 'Friday': 7, 'Saturday': 1, 'Sunday': 2}\n"
     ]
    }
   ],
   "source": [
    "try:    \n",
    "    days = ['Monday','Tuesday','Wednesday','Thursday','Friday','Saturday','Sunday']\n",
    "    count = []\n",
    "\n",
    "    for i, day in enumerate(days):\n",
    "        cur.execute(\"SELECT COUNT(*) FROM fact_songplays JOIN dim_time ON fact_songplays.start_time = dim_time.start_time WHERE dim_time.weekday = %s AND fact_songplays.level = 'free';\",(day,))\n",
    "        count.append(cur.fetchall()[0][0]) \n",
    "\n",
    "    count_by_day_free = dict(zip(days,count))\n",
    "    print(count_by_day_free)\n",
    "except Exception as e:\n",
    "    print(e)"
   ]
  },
  {
   "cell_type": "markdown",
   "metadata": {},
   "source": [
    "Number of songplays by day of week for 'paid' level users"
   ]
  },
  {
   "cell_type": "code",
   "execution_count": 9,
   "metadata": {},
   "outputs": [
    {
     "name": "stdout",
     "output_type": "stream",
     "text": [
      "{'Monday': 13, 'Tuesday': 12, 'Wednesday': 17, 'Thursday': 21, 'Friday': 8, 'Saturday': 7, 'Sunday': 4}\n"
     ]
    }
   ],
   "source": [
    "try:    \n",
    "    days = ['Monday','Tuesday','Wednesday','Thursday','Friday','Saturday','Sunday']\n",
    "    count = []\n",
    "\n",
    "    for i, day in enumerate(days):\n",
    "        cur.execute(\"SELECT COUNT(*) FROM fact_songplays JOIN dim_time ON fact_songplays.start_time = dim_time.start_time WHERE dim_time.weekday = %s AND fact_songplays.level = 'paid';\",(day,))\n",
    "        count.append(cur.fetchall()[0][0]) \n",
    "\n",
    "    count_by_day_paid = dict(zip(days,count))\n",
    "    print(count_by_day_paid)\n",
    "except Exception as e:\n",
    "    print(e)"
   ]
  },
  {
   "cell_type": "markdown",
   "metadata": {},
   "source": [
    "Number of songs in songs table by year"
   ]
  },
  {
   "cell_type": "code",
   "execution_count": 10,
   "metadata": {},
   "outputs": [
    {
     "name": "stdout",
     "output_type": "stream",
     "text": [
      "{1927: 1, 1944: 1, 1954: 3, 1956: 2, 1957: 3, 1958: 2, 1959: 4, 1960: 2, 1961: 4, 1962: 4, 1963: 7, 1964: 7, 1965: 2, 1966: 10, 1967: 9, 1968: 16, 1969: 13, 1970: 23, 1971: 12, 1972: 15, 1973: 16, 1974: 15, 1975: 18, 1976: 13, 1977: 21, 1978: 20, 1979: 17, 1980: 23, 1981: 25, 1982: 34, 1983: 21, 1984: 23, 1985: 24, 1986: 41, 1987: 35, 1988: 42, 1989: 50, 1990: 56, 1991: 55, 1992: 94, 1993: 64, 1994: 95, 1995: 103, 1996: 98, 1997: 105, 1998: 82, 1999: 129, 2000: 137, 2001: 131, 2002: 147, 2003: 185, 2004: 212, 2005: 241, 2006: 272, 2007: 286, 2008: 264, 2009: 204, 2010: 72}\n"
     ]
    }
   ],
   "source": [
    "try:\n",
    "    cur.execute(\"SELECT dim_songs.year as year, COUNT(*) as count_all FROM dim_songs GROUP BY dim_songs.year ORDER BY dim_songs.year ASC;\")\n",
    "    results = cur.fetchall()\n",
    "    count_songs_by_year = dict(results)\n",
    "    print(count_songs_by_year)\n",
    "except Exception as e:\n",
    "    print(e)"
   ]
  },
  {
   "cell_type": "markdown",
   "metadata": {},
   "source": [
    "Find the top 3 locations by total songplays, return total songplays and location for each"
   ]
  },
  {
   "cell_type": "code",
   "execution_count": 11,
   "metadata": {},
   "outputs": [
    {
     "name": "stdout",
     "output_type": "stream",
     "text": [
      "[(11, 'Lansing-East Lansing, MI'), (11, 'San Francisco-Oakland-Hayward, CA'), (7, 'Chicago-Naperville-Elgin, IL-IN-WI')]\n"
     ]
    }
   ],
   "source": [
    "try:    \n",
    "    cur.execute(\"\"\"SELECT COUNT(*) as count_all, fact_songplays.location as location FROM fact_songplays \n",
    "                GROUP BY fact_songplays.location ORDER BY count_all DESC LIMIT 3;\"\"\")\n",
    "    top3_locations_by_songplays = cur.fetchall()\n",
    "    print(top3_locations_by_songplays)\n",
    "except Exception as e:\n",
    "    print(e)"
   ]
  },
  {
   "cell_type": "markdown",
   "metadata": {},
   "source": [
    "Find the top 3 locations by total songplays for each day of week"
   ]
  },
  {
   "cell_type": "code",
   "execution_count": 12,
   "metadata": {},
   "outputs": [
    {
     "name": "stdout",
     "output_type": "stream",
     "text": [
      "{'Monday': [(3, 'Lansing-East Lansing, MI'), (3, 'Lake Havasu City-Kingman, AZ'), (2, 'Waterloo-Cedar Falls, IA')], 'Tuesday': [(4, 'Marinette, WI-MI'), (2, 'Atlanta-Sandy Springs-Roswell, GA'), (2, 'Lansing-East Lansing, MI')], 'Wednesday': [(4, 'Chicago-Naperville-Elgin, IL-IN-WI'), (3, 'Tampa-St. Petersburg-Clearwater, FL'), (3, 'Portland-South Portland, ME')], 'Thursday': [(4, 'Lansing-East Lansing, MI'), (4, 'San Francisco-Oakland-Hayward, CA'), (3, 'Portland-South Portland, ME')], 'Friday': [(3, 'San Francisco-Oakland-Hayward, CA'), (2, 'New Haven-Milford, CT'), (1, 'Marinette, WI-MI')], 'Saturday': [(2, 'Winston-Salem, NC'), (2, 'Waterloo-Cedar Falls, IA'), (2, 'Tampa-St. Petersburg-Clearwater, FL')], 'Sunday': [(1, 'Marinette, WI-MI'), (1, 'Indianapolis-Carmel-Anderson, IN'), (1, 'Waterloo-Cedar Falls, IA')]}\n"
     ]
    }
   ],
   "source": [
    "try:\n",
    "    days = ['Monday','Tuesday','Wednesday','Thursday','Friday','Saturday','Sunday']\n",
    "    top3 = []\n",
    "\n",
    "    for i, day in enumerate(days):\n",
    "        cur.execute(\"SELECT COUNT(*) as count_all, fact_songplays.location as location FROM fact_songplays JOIN dim_time ON fact_songplays.start_time = dim_time.start_time WHERE dim_time.weekday = %s GROUP BY fact_songplays.location ORDER BY count_all DESC;\",(day,))\n",
    "        top3.append(cur.fetchall()[0:3]) \n",
    "\n",
    "    top3_locations_by_day = dict(zip(days,top3))\n",
    "    print(top3_locations_by_day)\n",
    "except Exception as e:\n",
    "    print(e)"
   ]
  },
  {
   "cell_type": "markdown",
   "metadata": {},
   "source": [
    "Top 3 paid users by total number of songs played"
   ]
  },
  {
   "cell_type": "code",
   "execution_count": 13,
   "metadata": {},
   "outputs": [
    {
     "name": "stdout",
     "output_type": "stream",
     "text": [
      "[(11, 'Kate', 'Harrell', 'F'), (10, 'Chloe', 'Cuevas', 'F'), (7, 'Jacob', 'Klein', 'M')]\n"
     ]
    }
   ],
   "source": [
    "try:\n",
    "    cur.execute(\"\"\"SELECT COUNT (*) as count_all,  dim_users.first_name, dim_users.last_name, dim_users.gender FROM fact_songplays JOIN dim_users\n",
    "                ON fact_songplays.user_id = dim_users.user_id WHERE fact_songplays.level = 'paid' GROUP BY first_name, last_name, gender\n",
    "                ORDER BY count_all DESC LIMIT 3;\"\"\")\n",
    "    top3_paid_users_by_songplays = cur.fetchall()\n",
    "    print(top3_paid_users_by_songplays)\n",
    "except Exception as e:\n",
    "    print(e)"
   ]
  },
  {
   "cell_type": "markdown",
   "metadata": {},
   "source": [
    "### Demonstrate use of Pandas read_sql to ingest data into DataFrames"
   ]
  },
  {
   "cell_type": "code",
   "execution_count": 14,
   "metadata": {},
   "outputs": [
    {
     "data": {
      "text/html": [
       "<div>\n",
       "<style scoped>\n",
       "    .dataframe tbody tr th:only-of-type {\n",
       "        vertical-align: middle;\n",
       "    }\n",
       "\n",
       "    .dataframe tbody tr th {\n",
       "        vertical-align: top;\n",
       "    }\n",
       "\n",
       "    .dataframe thead th {\n",
       "        text-align: right;\n",
       "    }\n",
       "</style>\n",
       "<table border=\"1\" class=\"dataframe\">\n",
       "  <thead>\n",
       "    <tr style=\"text-align: right;\">\n",
       "      <th></th>\n",
       "      <th>count_all</th>\n",
       "      <th>location</th>\n",
       "    </tr>\n",
       "  </thead>\n",
       "  <tbody>\n",
       "    <tr>\n",
       "      <th>0</th>\n",
       "      <td>11</td>\n",
       "      <td>Lansing-East Lansing, MI</td>\n",
       "    </tr>\n",
       "    <tr>\n",
       "      <th>1</th>\n",
       "      <td>11</td>\n",
       "      <td>San Francisco-Oakland-Hayward, CA</td>\n",
       "    </tr>\n",
       "    <tr>\n",
       "      <th>2</th>\n",
       "      <td>7</td>\n",
       "      <td>Chicago-Naperville-Elgin, IL-IN-WI</td>\n",
       "    </tr>\n",
       "  </tbody>\n",
       "</table>\n",
       "</div>"
      ],
      "text/plain": [
       "   count_all                            location\n",
       "0         11            Lansing-East Lansing, MI\n",
       "1         11   San Francisco-Oakland-Hayward, CA\n",
       "2          7  Chicago-Naperville-Elgin, IL-IN-WI"
      ]
     },
     "execution_count": 14,
     "metadata": {},
     "output_type": "execute_result"
    }
   ],
   "source": [
    "pd.read_sql(\"SELECT COUNT(*) as count_all, fact_songplays.location as location FROM fact_songplays GROUP BY fact_songplays.location ORDER BY count_all DESC LIMIT 3;\",conn)"
   ]
  },
  {
   "cell_type": "code",
   "execution_count": 15,
   "metadata": {
    "scrolled": true
   },
   "outputs": [
    {
     "data": {
      "text/html": [
       "<div>\n",
       "<style scoped>\n",
       "    .dataframe tbody tr th:only-of-type {\n",
       "        vertical-align: middle;\n",
       "    }\n",
       "\n",
       "    .dataframe tbody tr th {\n",
       "        vertical-align: top;\n",
       "    }\n",
       "\n",
       "    .dataframe thead th {\n",
       "        text-align: right;\n",
       "    }\n",
       "</style>\n",
       "<table border=\"1\" class=\"dataframe\">\n",
       "  <thead>\n",
       "    <tr style=\"text-align: right;\">\n",
       "      <th></th>\n",
       "      <th>year</th>\n",
       "      <th>count_all</th>\n",
       "    </tr>\n",
       "  </thead>\n",
       "  <tbody>\n",
       "    <tr>\n",
       "      <th>0</th>\n",
       "      <td>1927</td>\n",
       "      <td>1</td>\n",
       "    </tr>\n",
       "    <tr>\n",
       "      <th>1</th>\n",
       "      <td>1944</td>\n",
       "      <td>1</td>\n",
       "    </tr>\n",
       "    <tr>\n",
       "      <th>2</th>\n",
       "      <td>1954</td>\n",
       "      <td>3</td>\n",
       "    </tr>\n",
       "    <tr>\n",
       "      <th>3</th>\n",
       "      <td>1956</td>\n",
       "      <td>2</td>\n",
       "    </tr>\n",
       "    <tr>\n",
       "      <th>4</th>\n",
       "      <td>1957</td>\n",
       "      <td>3</td>\n",
       "    </tr>\n",
       "    <tr>\n",
       "      <th>5</th>\n",
       "      <td>1958</td>\n",
       "      <td>2</td>\n",
       "    </tr>\n",
       "    <tr>\n",
       "      <th>6</th>\n",
       "      <td>1959</td>\n",
       "      <td>4</td>\n",
       "    </tr>\n",
       "    <tr>\n",
       "      <th>7</th>\n",
       "      <td>1960</td>\n",
       "      <td>2</td>\n",
       "    </tr>\n",
       "    <tr>\n",
       "      <th>8</th>\n",
       "      <td>1961</td>\n",
       "      <td>4</td>\n",
       "    </tr>\n",
       "    <tr>\n",
       "      <th>9</th>\n",
       "      <td>1962</td>\n",
       "      <td>4</td>\n",
       "    </tr>\n",
       "    <tr>\n",
       "      <th>10</th>\n",
       "      <td>1963</td>\n",
       "      <td>7</td>\n",
       "    </tr>\n",
       "    <tr>\n",
       "      <th>11</th>\n",
       "      <td>1964</td>\n",
       "      <td>7</td>\n",
       "    </tr>\n",
       "    <tr>\n",
       "      <th>12</th>\n",
       "      <td>1965</td>\n",
       "      <td>2</td>\n",
       "    </tr>\n",
       "    <tr>\n",
       "      <th>13</th>\n",
       "      <td>1966</td>\n",
       "      <td>10</td>\n",
       "    </tr>\n",
       "    <tr>\n",
       "      <th>14</th>\n",
       "      <td>1967</td>\n",
       "      <td>9</td>\n",
       "    </tr>\n",
       "    <tr>\n",
       "      <th>15</th>\n",
       "      <td>1968</td>\n",
       "      <td>16</td>\n",
       "    </tr>\n",
       "    <tr>\n",
       "      <th>16</th>\n",
       "      <td>1969</td>\n",
       "      <td>13</td>\n",
       "    </tr>\n",
       "    <tr>\n",
       "      <th>17</th>\n",
       "      <td>1970</td>\n",
       "      <td>23</td>\n",
       "    </tr>\n",
       "    <tr>\n",
       "      <th>18</th>\n",
       "      <td>1971</td>\n",
       "      <td>12</td>\n",
       "    </tr>\n",
       "    <tr>\n",
       "      <th>19</th>\n",
       "      <td>1972</td>\n",
       "      <td>15</td>\n",
       "    </tr>\n",
       "    <tr>\n",
       "      <th>20</th>\n",
       "      <td>1973</td>\n",
       "      <td>16</td>\n",
       "    </tr>\n",
       "    <tr>\n",
       "      <th>21</th>\n",
       "      <td>1974</td>\n",
       "      <td>15</td>\n",
       "    </tr>\n",
       "    <tr>\n",
       "      <th>22</th>\n",
       "      <td>1975</td>\n",
       "      <td>18</td>\n",
       "    </tr>\n",
       "    <tr>\n",
       "      <th>23</th>\n",
       "      <td>1976</td>\n",
       "      <td>13</td>\n",
       "    </tr>\n",
       "    <tr>\n",
       "      <th>24</th>\n",
       "      <td>1977</td>\n",
       "      <td>21</td>\n",
       "    </tr>\n",
       "    <tr>\n",
       "      <th>25</th>\n",
       "      <td>1978</td>\n",
       "      <td>20</td>\n",
       "    </tr>\n",
       "    <tr>\n",
       "      <th>26</th>\n",
       "      <td>1979</td>\n",
       "      <td>17</td>\n",
       "    </tr>\n",
       "    <tr>\n",
       "      <th>27</th>\n",
       "      <td>1980</td>\n",
       "      <td>23</td>\n",
       "    </tr>\n",
       "    <tr>\n",
       "      <th>28</th>\n",
       "      <td>1981</td>\n",
       "      <td>25</td>\n",
       "    </tr>\n",
       "    <tr>\n",
       "      <th>29</th>\n",
       "      <td>1982</td>\n",
       "      <td>34</td>\n",
       "    </tr>\n",
       "    <tr>\n",
       "      <th>30</th>\n",
       "      <td>1983</td>\n",
       "      <td>21</td>\n",
       "    </tr>\n",
       "    <tr>\n",
       "      <th>31</th>\n",
       "      <td>1984</td>\n",
       "      <td>23</td>\n",
       "    </tr>\n",
       "    <tr>\n",
       "      <th>32</th>\n",
       "      <td>1985</td>\n",
       "      <td>24</td>\n",
       "    </tr>\n",
       "    <tr>\n",
       "      <th>33</th>\n",
       "      <td>1986</td>\n",
       "      <td>41</td>\n",
       "    </tr>\n",
       "    <tr>\n",
       "      <th>34</th>\n",
       "      <td>1987</td>\n",
       "      <td>35</td>\n",
       "    </tr>\n",
       "    <tr>\n",
       "      <th>35</th>\n",
       "      <td>1988</td>\n",
       "      <td>42</td>\n",
       "    </tr>\n",
       "    <tr>\n",
       "      <th>36</th>\n",
       "      <td>1989</td>\n",
       "      <td>50</td>\n",
       "    </tr>\n",
       "    <tr>\n",
       "      <th>37</th>\n",
       "      <td>1990</td>\n",
       "      <td>56</td>\n",
       "    </tr>\n",
       "    <tr>\n",
       "      <th>38</th>\n",
       "      <td>1991</td>\n",
       "      <td>55</td>\n",
       "    </tr>\n",
       "    <tr>\n",
       "      <th>39</th>\n",
       "      <td>1992</td>\n",
       "      <td>94</td>\n",
       "    </tr>\n",
       "    <tr>\n",
       "      <th>40</th>\n",
       "      <td>1993</td>\n",
       "      <td>64</td>\n",
       "    </tr>\n",
       "    <tr>\n",
       "      <th>41</th>\n",
       "      <td>1994</td>\n",
       "      <td>95</td>\n",
       "    </tr>\n",
       "    <tr>\n",
       "      <th>42</th>\n",
       "      <td>1995</td>\n",
       "      <td>103</td>\n",
       "    </tr>\n",
       "    <tr>\n",
       "      <th>43</th>\n",
       "      <td>1996</td>\n",
       "      <td>98</td>\n",
       "    </tr>\n",
       "    <tr>\n",
       "      <th>44</th>\n",
       "      <td>1997</td>\n",
       "      <td>105</td>\n",
       "    </tr>\n",
       "    <tr>\n",
       "      <th>45</th>\n",
       "      <td>1998</td>\n",
       "      <td>82</td>\n",
       "    </tr>\n",
       "    <tr>\n",
       "      <th>46</th>\n",
       "      <td>1999</td>\n",
       "      <td>129</td>\n",
       "    </tr>\n",
       "    <tr>\n",
       "      <th>47</th>\n",
       "      <td>2000</td>\n",
       "      <td>137</td>\n",
       "    </tr>\n",
       "    <tr>\n",
       "      <th>48</th>\n",
       "      <td>2001</td>\n",
       "      <td>131</td>\n",
       "    </tr>\n",
       "    <tr>\n",
       "      <th>49</th>\n",
       "      <td>2002</td>\n",
       "      <td>147</td>\n",
       "    </tr>\n",
       "    <tr>\n",
       "      <th>50</th>\n",
       "      <td>2003</td>\n",
       "      <td>185</td>\n",
       "    </tr>\n",
       "    <tr>\n",
       "      <th>51</th>\n",
       "      <td>2004</td>\n",
       "      <td>212</td>\n",
       "    </tr>\n",
       "    <tr>\n",
       "      <th>52</th>\n",
       "      <td>2005</td>\n",
       "      <td>241</td>\n",
       "    </tr>\n",
       "    <tr>\n",
       "      <th>53</th>\n",
       "      <td>2006</td>\n",
       "      <td>272</td>\n",
       "    </tr>\n",
       "    <tr>\n",
       "      <th>54</th>\n",
       "      <td>2007</td>\n",
       "      <td>286</td>\n",
       "    </tr>\n",
       "    <tr>\n",
       "      <th>55</th>\n",
       "      <td>2008</td>\n",
       "      <td>264</td>\n",
       "    </tr>\n",
       "    <tr>\n",
       "      <th>56</th>\n",
       "      <td>2009</td>\n",
       "      <td>204</td>\n",
       "    </tr>\n",
       "    <tr>\n",
       "      <th>57</th>\n",
       "      <td>2010</td>\n",
       "      <td>72</td>\n",
       "    </tr>\n",
       "  </tbody>\n",
       "</table>\n",
       "</div>"
      ],
      "text/plain": [
       "    year  count_all\n",
       "0   1927          1\n",
       "1   1944          1\n",
       "2   1954          3\n",
       "3   1956          2\n",
       "4   1957          3\n",
       "5   1958          2\n",
       "6   1959          4\n",
       "7   1960          2\n",
       "8   1961          4\n",
       "9   1962          4\n",
       "10  1963          7\n",
       "11  1964          7\n",
       "12  1965          2\n",
       "13  1966         10\n",
       "14  1967          9\n",
       "15  1968         16\n",
       "16  1969         13\n",
       "17  1970         23\n",
       "18  1971         12\n",
       "19  1972         15\n",
       "20  1973         16\n",
       "21  1974         15\n",
       "22  1975         18\n",
       "23  1976         13\n",
       "24  1977         21\n",
       "25  1978         20\n",
       "26  1979         17\n",
       "27  1980         23\n",
       "28  1981         25\n",
       "29  1982         34\n",
       "30  1983         21\n",
       "31  1984         23\n",
       "32  1985         24\n",
       "33  1986         41\n",
       "34  1987         35\n",
       "35  1988         42\n",
       "36  1989         50\n",
       "37  1990         56\n",
       "38  1991         55\n",
       "39  1992         94\n",
       "40  1993         64\n",
       "41  1994         95\n",
       "42  1995        103\n",
       "43  1996         98\n",
       "44  1997        105\n",
       "45  1998         82\n",
       "46  1999        129\n",
       "47  2000        137\n",
       "48  2001        131\n",
       "49  2002        147\n",
       "50  2003        185\n",
       "51  2004        212\n",
       "52  2005        241\n",
       "53  2006        272\n",
       "54  2007        286\n",
       "55  2008        264\n",
       "56  2009        204\n",
       "57  2010         72"
      ]
     },
     "execution_count": 15,
     "metadata": {},
     "output_type": "execute_result"
    }
   ],
   "source": [
    "pd.read_sql(\"SELECT dim_songs.year as year, COUNT(*) as count_all FROM dim_songs GROUP BY dim_songs.year ORDER BY dim_songs.year ASC;\",conn)"
   ]
  },
  {
   "cell_type": "markdown",
   "metadata": {},
   "source": [
    "## REMEMBER: Close connection when finished"
   ]
  },
  {
   "cell_type": "code",
   "execution_count": 16,
   "metadata": {},
   "outputs": [],
   "source": [
    "conn.close()"
   ]
  },
  {
   "cell_type": "code",
   "execution_count": null,
   "metadata": {},
   "outputs": [],
   "source": []
  }
 ],
 "metadata": {
  "kernelspec": {
   "display_name": "Python 3",
   "language": "python",
   "name": "python3"
  },
  "language_info": {
   "codemirror_mode": {
    "name": "ipython",
    "version": 3
   },
   "file_extension": ".py",
   "mimetype": "text/x-python",
   "name": "python",
   "nbconvert_exporter": "python",
   "pygments_lexer": "ipython3",
   "version": "3.7.4"
  }
 },
 "nbformat": 4,
 "nbformat_minor": 2
}
